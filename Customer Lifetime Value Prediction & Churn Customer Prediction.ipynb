{
 "cells": [
  {
   "cell_type": "markdown",
   "metadata": {},
   "source": [
    "# DATA PREPARATION"
   ]
  },
  {
   "cell_type": "code",
   "execution_count": null,
   "metadata": {},
   "outputs": [],
   "source": [
    "import numpy as np\n",
    "import pandas as pd\n",
    "import pyhdb\n",
    "from sqlalchemy import create_engine\n",
    "from sqlalchemy.types import NVARCHAR\n",
    "%matplotlib inline"
   ]
  },
  {
   "cell_type": "code",
   "execution_count": 116,
   "metadata": {},
   "outputs": [],
   "source": [
    "chunksize = 100000\n",
    "churn = pd.read_csv('data_20171001_20190930.csv', chunksize=100000, iterator=True)\n",
    "data = pd.concat(churn, ignore_index=True)"
   ]
  },
  {
   "cell_type": "code",
   "execution_count": 45,
   "metadata": {
    "scrolled": true
   },
   "outputs": [
    {
     "data": {
      "text/html": [
       "<div>\n",
       "<style scoped>\n",
       "    .dataframe tbody tr th:only-of-type {\n",
       "        vertical-align: middle;\n",
       "    }\n",
       "\n",
       "    .dataframe tbody tr th {\n",
       "        vertical-align: top;\n",
       "    }\n",
       "\n",
       "    .dataframe thead th {\n",
       "        text-align: right;\n",
       "    }\n",
       "</style>\n",
       "<table border=\"1\" class=\"dataframe\">\n",
       "  <thead>\n",
       "    <tr style=\"text-align: right;\">\n",
       "      <th></th>\n",
       "      <th>customer_id</th>\n",
       "      <th>date</th>\n",
       "      <th>quantity</th>\n",
       "      <th>amount</th>\n",
       "    </tr>\n",
       "  </thead>\n",
       "  <tbody>\n",
       "    <tr>\n",
       "      <th>0</th>\n",
       "      <td>2100395099</td>\n",
       "      <td>20171026</td>\n",
       "      <td>17</td>\n",
       "      <td>$38.80</td>\n",
       "    </tr>\n",
       "    <tr>\n",
       "      <th>1</th>\n",
       "      <td>2100068562</td>\n",
       "      <td>20171012</td>\n",
       "      <td>36</td>\n",
       "      <td>$137.25</td>\n",
       "    </tr>\n",
       "    <tr>\n",
       "      <th>2</th>\n",
       "      <td>2100006589</td>\n",
       "      <td>20171009</td>\n",
       "      <td>22</td>\n",
       "      <td>$91.02</td>\n",
       "    </tr>\n",
       "    <tr>\n",
       "      <th>3</th>\n",
       "      <td>2100628482</td>\n",
       "      <td>20180102</td>\n",
       "      <td>8</td>\n",
       "      <td>$57.28</td>\n",
       "    </tr>\n",
       "    <tr>\n",
       "      <th>4</th>\n",
       "      <td>2100618183</td>\n",
       "      <td>20180111</td>\n",
       "      <td>12</td>\n",
       "      <td>$93.47</td>\n",
       "    </tr>\n",
       "  </tbody>\n",
       "</table>\n",
       "</div>"
      ],
      "text/plain": [
       "   customer_id      date  quantity   amount\n",
       "0   2100395099  20171026        17   $38.80\n",
       "1   2100068562  20171012        36  $137.25\n",
       "2   2100006589  20171009        22   $91.02\n",
       "3   2100628482  20180102         8   $57.28\n",
       "4   2100618183  20180111        12   $93.47"
      ]
     },
     "execution_count": 45,
     "metadata": {},
     "output_type": "execute_result"
    }
   ],
   "source": [
    "data_head = data.head()\n",
    "data_head['amount'] = data_head['amount'].map('${:,.2f}'.format)\n",
    "data_head"
   ]
  },
  {
   "cell_type": "code",
   "execution_count": 46,
   "metadata": {
    "scrolled": true
   },
   "outputs": [
    {
     "data": {
      "text/html": [
       "<div>\n",
       "<style scoped>\n",
       "    .dataframe tbody tr th:only-of-type {\n",
       "        vertical-align: middle;\n",
       "    }\n",
       "\n",
       "    .dataframe tbody tr th {\n",
       "        vertical-align: top;\n",
       "    }\n",
       "\n",
       "    .dataframe thead th {\n",
       "        text-align: right;\n",
       "    }\n",
       "</style>\n",
       "<table border=\"1\" class=\"dataframe\">\n",
       "  <thead>\n",
       "    <tr style=\"text-align: right;\">\n",
       "      <th></th>\n",
       "      <th>customer_id</th>\n",
       "      <th>date</th>\n",
       "      <th>quantity</th>\n",
       "      <th>amount</th>\n",
       "    </tr>\n",
       "  </thead>\n",
       "  <tbody>\n",
       "    <tr>\n",
       "      <th>0</th>\n",
       "      <td>1</td>\n",
       "      <td>20171026</td>\n",
       "      <td>17</td>\n",
       "      <td>$38.80</td>\n",
       "    </tr>\n",
       "    <tr>\n",
       "      <th>1</th>\n",
       "      <td>2</td>\n",
       "      <td>20171012</td>\n",
       "      <td>36</td>\n",
       "      <td>$137.25</td>\n",
       "    </tr>\n",
       "    <tr>\n",
       "      <th>2</th>\n",
       "      <td>3</td>\n",
       "      <td>20171009</td>\n",
       "      <td>22</td>\n",
       "      <td>$91.02</td>\n",
       "    </tr>\n",
       "    <tr>\n",
       "      <th>3</th>\n",
       "      <td>4</td>\n",
       "      <td>20180102</td>\n",
       "      <td>8</td>\n",
       "      <td>$57.28</td>\n",
       "    </tr>\n",
       "    <tr>\n",
       "      <th>4</th>\n",
       "      <td>5</td>\n",
       "      <td>20180111</td>\n",
       "      <td>12</td>\n",
       "      <td>$93.47</td>\n",
       "    </tr>\n",
       "  </tbody>\n",
       "</table>\n",
       "</div>"
      ],
      "text/plain": [
       "   customer_id      date  quantity   amount\n",
       "0            1  20171026        17   $38.80\n",
       "1            2  20171012        36  $137.25\n",
       "2            3  20171009        22   $91.02\n",
       "3            4  20180102         8   $57.28\n",
       "4            5  20180111        12   $93.47"
      ]
     },
     "execution_count": 46,
     "metadata": {},
     "output_type": "execute_result"
    }
   ],
   "source": [
    "#Change the customer_id \n",
    "data_head = data_head.replace({'customer_id' : {2100395099: 1,2100068562:2,2100006589:3,2100628482:4, 2100618183:5}})\n",
    "data_head"
   ]
  },
  {
   "cell_type": "code",
   "execution_count": 4,
   "metadata": {
    "scrolled": false
   },
   "outputs": [
    {
     "data": {
      "text/html": [
       "<div>\n",
       "<style scoped>\n",
       "    .dataframe tbody tr th:only-of-type {\n",
       "        vertical-align: middle;\n",
       "    }\n",
       "\n",
       "    .dataframe tbody tr th {\n",
       "        vertical-align: top;\n",
       "    }\n",
       "\n",
       "    .dataframe thead th {\n",
       "        text-align: right;\n",
       "    }\n",
       "</style>\n",
       "<table border=\"1\" class=\"dataframe\">\n",
       "  <thead>\n",
       "    <tr style=\"text-align: right;\">\n",
       "      <th></th>\n",
       "      <th>customer_id</th>\n",
       "      <th>date</th>\n",
       "      <th>quantity</th>\n",
       "      <th>amount</th>\n",
       "    </tr>\n",
       "  </thead>\n",
       "  <tbody>\n",
       "    <tr>\n",
       "      <th>count</th>\n",
       "      <td>1.356140e+08</td>\n",
       "      <td>1.356140e+08</td>\n",
       "      <td>1.356140e+08</td>\n",
       "      <td>1.356140e+08</td>\n",
       "    </tr>\n",
       "    <tr>\n",
       "      <th>mean</th>\n",
       "      <td>2.100852e+09</td>\n",
       "      <td>2.018299e+07</td>\n",
       "      <td>1.377011e+01</td>\n",
       "      <td>6.362600e+01</td>\n",
       "    </tr>\n",
       "    <tr>\n",
       "      <th>std</th>\n",
       "      <td>5.723446e+05</td>\n",
       "      <td>6.472773e+03</td>\n",
       "      <td>1.515439e+01</td>\n",
       "      <td>7.349816e+01</td>\n",
       "    </tr>\n",
       "    <tr>\n",
       "      <th>min</th>\n",
       "      <td>2.100000e+09</td>\n",
       "      <td>2.017100e+07</td>\n",
       "      <td>1.000000e+00</td>\n",
       "      <td>1.000000e-02</td>\n",
       "    </tr>\n",
       "    <tr>\n",
       "      <th>25%</th>\n",
       "      <td>2.100369e+09</td>\n",
       "      <td>2.018033e+07</td>\n",
       "      <td>4.000000e+00</td>\n",
       "      <td>1.925000e+01</td>\n",
       "    </tr>\n",
       "    <tr>\n",
       "      <th>50%</th>\n",
       "      <td>2.100737e+09</td>\n",
       "      <td>2.018092e+07</td>\n",
       "      <td>9.000000e+00</td>\n",
       "      <td>3.924000e+01</td>\n",
       "    </tr>\n",
       "    <tr>\n",
       "      <th>75%</th>\n",
       "      <td>2.101371e+09</td>\n",
       "      <td>2.019032e+07</td>\n",
       "      <td>1.700000e+01</td>\n",
       "      <td>8.027000e+01</td>\n",
       "    </tr>\n",
       "    <tr>\n",
       "      <th>max</th>\n",
       "      <td>2.102082e+09</td>\n",
       "      <td>2.019093e+07</td>\n",
       "      <td>4.586000e+03</td>\n",
       "      <td>3.600000e+04</td>\n",
       "    </tr>\n",
       "  </tbody>\n",
       "</table>\n",
       "</div>"
      ],
      "text/plain": [
       "        customer_id          date      quantity        amount\n",
       "count  1.356140e+08  1.356140e+08  1.356140e+08  1.356140e+08\n",
       "mean   2.100852e+09  2.018299e+07  1.377011e+01  6.362600e+01\n",
       "std    5.723446e+05  6.472773e+03  1.515439e+01  7.349816e+01\n",
       "min    2.100000e+09  2.017100e+07  1.000000e+00  1.000000e-02\n",
       "25%    2.100369e+09  2.018033e+07  4.000000e+00  1.925000e+01\n",
       "50%    2.100737e+09  2.018092e+07  9.000000e+00  3.924000e+01\n",
       "75%    2.101371e+09  2.019032e+07  1.700000e+01  8.027000e+01\n",
       "max    2.102082e+09  2.019093e+07  4.586000e+03  3.600000e+04"
      ]
     },
     "execution_count": 4,
     "metadata": {},
     "output_type": "execute_result"
    }
   ],
   "source": [
    "# Observing the dataset\n",
    "data.describe()"
   ]
  },
  {
   "cell_type": "code",
   "execution_count": null,
   "metadata": {},
   "outputs": [],
   "source": [
    "data['date'] = pd.to_datetime(data.date, format=\"%Y%m%d\")\n",
    "from lifetimes.utils import summary_data_from_transaction_data\n",
    "# lifetimes provides a transaction log -> rfm util function\n",
    "training = summary_data_from_transaction_data(\n",
    "     data,\n",
    "    'customer_id',\n",
    "    'date',\n",
    "    monetary_value_col = 'amount',\n",
    "    observation_period_end=pd.to_datetime('2018-09-30'),\n",
    "    freq='D'\n",
    ")\n",
    "training.to_csv('training_day.csv')"
   ]
  },
  {
   "cell_type": "code",
   "execution_count": 1,
   "metadata": {},
   "outputs": [
    {
     "ename": "NameError",
     "evalue": "name 'data' is not defined",
     "traceback": [
      "\u001b[1;31m---------------------------------------------------------------------------\u001b[0m",
      "\u001b[1;31mNameError\u001b[0m                                 Traceback (most recent call last)",
      "\u001b[1;32m<ipython-input-1-52c2f0b5678a>\u001b[0m in \u001b[0;36m<module>\u001b[1;34m()\u001b[0m\n\u001b[1;32m----> 1\u001b[1;33m \u001b[0mdata_20181001_20190930\u001b[0m \u001b[1;33m=\u001b[0m \u001b[0mdata\u001b[0m\u001b[1;33m[\u001b[0m\u001b[1;33m(\u001b[0m\u001b[0mdata\u001b[0m\u001b[1;33m[\u001b[0m\u001b[1;34m'date'\u001b[0m\u001b[1;33m]\u001b[0m \u001b[1;33m>=\u001b[0m\u001b[1;36m20181001\u001b[0m\u001b[1;33m)\u001b[0m \u001b[1;33m&\u001b[0m \u001b[1;33m(\u001b[0m\u001b[0mdata\u001b[0m\u001b[1;33m[\u001b[0m\u001b[1;34m'date'\u001b[0m\u001b[1;33m]\u001b[0m \u001b[1;33m<=\u001b[0m\u001b[1;36m20190930\u001b[0m\u001b[1;33m)\u001b[0m\u001b[1;33m]\u001b[0m\u001b[1;33m\u001b[0m\u001b[0m\n\u001b[0m\u001b[0;32m      2\u001b[0m \u001b[0mdata_20181001_20190930\u001b[0m\u001b[1;33m[\u001b[0m\u001b[1;34m'date'\u001b[0m\u001b[1;33m]\u001b[0m \u001b[1;33m=\u001b[0m \u001b[0mpd\u001b[0m\u001b[1;33m.\u001b[0m\u001b[0mto_datetime\u001b[0m\u001b[1;33m(\u001b[0m\u001b[0mdata_20181001_20190930\u001b[0m\u001b[1;33m.\u001b[0m\u001b[0mdate\u001b[0m\u001b[1;33m,\u001b[0m \u001b[0mformat\u001b[0m\u001b[1;33m=\u001b[0m\u001b[1;34m\"%Y%m%d\"\u001b[0m\u001b[1;33m)\u001b[0m\u001b[1;33m\u001b[0m\u001b[0m\n\u001b[0;32m      3\u001b[0m \u001b[1;32mfrom\u001b[0m \u001b[0mlifetimes\u001b[0m\u001b[1;33m.\u001b[0m\u001b[0mutils\u001b[0m \u001b[1;32mimport\u001b[0m \u001b[0msummary_data_from_transaction_data\u001b[0m\u001b[1;33m\u001b[0m\u001b[0m\n\u001b[0;32m      4\u001b[0m \u001b[1;31m# lifetimes provides a transaction log -> rfm util function\u001b[0m\u001b[1;33m\u001b[0m\u001b[1;33m\u001b[0m\u001b[0m\n\u001b[0;32m      5\u001b[0m test = summary_data_from_transaction_data(\n",
      "\u001b[1;31mNameError\u001b[0m: name 'data' is not defined"
     ],
     "output_type": "error"
    }
   ],
   "source": [
    "data_20181001_20190930 = data[(data['date'] >=20181001) & (data['date'] <=20190930)]\n",
    "data_20181001_20190930['date'] = pd.to_datetime(data_20181001_20190930.date, format=\"%Y%m%d\")\n",
    "from lifetimes.utils import summary_data_from_transaction_data\n",
    "# lifetimes provides a transaction log -> rfm util function\n",
    "test = summary_data_from_transaction_data(\n",
    "     data_20181001_20190930,\n",
    "    'customer_id',\n",
    "    'date',\n",
    "    monetary_value_col = 'amount',\n",
    "    observation_period_end=pd.to_datetime('2019-09-30'),\n",
    "    freq='D'\n",
    ")\n",
    "test.to_csv('test_day.csv')"
   ]
  },
  {
   "cell_type": "code",
   "execution_count": 3,
   "metadata": {
    "scrolled": true
   },
   "outputs": [
    {
     "name": "stderr",
     "output_type": "stream",
     "text": [
      "C:\\Python3\\lib\\site-packages\\numpy\\lib\\arraysetops.py:522: FutureWarning: elementwise comparison failed; returning scalar instead, but in the future will perform elementwise comparison\n",
      "  mask |= (ar1 == a)\n"
     ]
    }
   ],
   "source": [
    "# Reading the Training RFM(20171001~20180930) anad Test RFM(20181001~20190930)\n",
    "training = pd.read_csv(\"training_day.csv\",index_col='customer_id')\n",
    "test = pd.read_csv(\"test_day.csv\",index_col='customer_id')"
   ]
  },
  {
   "cell_type": "code",
   "execution_count": 20,
   "metadata": {
    "scrolled": true
   },
   "outputs": [
    {
     "data": {
      "text/html": [
       "<div>\n",
       "<style scoped>\n",
       "    .dataframe tbody tr th:only-of-type {\n",
       "        vertical-align: middle;\n",
       "    }\n",
       "\n",
       "    .dataframe tbody tr th {\n",
       "        vertical-align: top;\n",
       "    }\n",
       "\n",
       "    .dataframe thead th {\n",
       "        text-align: right;\n",
       "    }\n",
       "</style>\n",
       "<table border=\"1\" class=\"dataframe\">\n",
       "  <thead>\n",
       "    <tr style=\"text-align: right;\">\n",
       "      <th></th>\n",
       "      <th>Frequency: Numbers of repeated daily shopping</th>\n",
       "      <th>Recency: Days between First shopping date and last shopping date</th>\n",
       "      <th>T: Days between First shopping date and 20180930</th>\n",
       "      <th>Monetary_value: Average daily purchased spent</th>\n",
       "    </tr>\n",
       "    <tr>\n",
       "      <th>customer_id</th>\n",
       "      <th></th>\n",
       "      <th></th>\n",
       "      <th></th>\n",
       "      <th></th>\n",
       "    </tr>\n",
       "  </thead>\n",
       "  <tbody>\n",
       "    <tr>\n",
       "      <th>1</th>\n",
       "      <td>95.0</td>\n",
       "      <td>363.0</td>\n",
       "      <td>363.0</td>\n",
       "      <td>$95.27</td>\n",
       "    </tr>\n",
       "    <tr>\n",
       "      <th>2</th>\n",
       "      <td>96.0</td>\n",
       "      <td>358.0</td>\n",
       "      <td>362.0</td>\n",
       "      <td>$37.43</td>\n",
       "    </tr>\n",
       "    <tr>\n",
       "      <th>2</th>\n",
       "      <td>2.0</td>\n",
       "      <td>181.0</td>\n",
       "      <td>204.0</td>\n",
       "      <td>$13.79</td>\n",
       "    </tr>\n",
       "    <tr>\n",
       "      <th>3</th>\n",
       "      <td>140.0</td>\n",
       "      <td>361.0</td>\n",
       "      <td>362.0</td>\n",
       "      <td>$64.74</td>\n",
       "    </tr>\n",
       "    <tr>\n",
       "      <th>4</th>\n",
       "      <td>184.0</td>\n",
       "      <td>358.0</td>\n",
       "      <td>360.0</td>\n",
       "      <td>$20.97</td>\n",
       "    </tr>\n",
       "  </tbody>\n",
       "</table>\n",
       "</div>"
      ],
      "text/plain": [
       "             Frequency: Numbers of repeated daily shopping  \\\n",
       "customer_id                                                  \n",
       "1                                                     95.0   \n",
       "2                                                     96.0   \n",
       "2                                                      2.0   \n",
       "3                                                    140.0   \n",
       "4                                                    184.0   \n",
       "\n",
       "             Recency: Days between First shopping date and last shopping date  \\\n",
       "customer_id                                                                     \n",
       "1                                                        363.0                  \n",
       "2                                                        358.0                  \n",
       "2                                                        181.0                  \n",
       "3                                                        361.0                  \n",
       "4                                                        358.0                  \n",
       "\n",
       "             T: Days between First shopping date and 20180930  \\\n",
       "customer_id                                                     \n",
       "1                                                       363.0   \n",
       "2                                                       362.0   \n",
       "2                                                       204.0   \n",
       "3                                                       362.0   \n",
       "4                                                       360.0   \n",
       "\n",
       "            Monetary_value: Average daily purchased spent  \n",
       "customer_id                                                \n",
       "1                                                  $95.27  \n",
       "2                                                  $37.43  \n",
       "2                                                  $13.79  \n",
       "3                                                  $64.74  \n",
       "4                                                  $20.97  "
      ]
     },
     "execution_count": 20,
     "metadata": {},
     "output_type": "execute_result"
    }
   ],
   "source": [
    "# Chagne the column name and index\n",
    "training_head = training.head()\n",
    "training_head['monetary_value'] = training_head['monetary_value'].map('${:,.2f}'.format)\n",
    "training_head.columns = ['Frequency: Numbers of repeated daily shopping','Recency: Days between First shopping date and last shopping date','T: Days between First shopping date and 20180930','Monetary_value: Average daily purchased spent']\n",
    "training_head.rename(index={2100000000: 1,2100000001:2,2100000002:2,2100000003:3, 2100000004:4}, inplace= True)\n",
    "training_head"
   ]
  },
  {
   "cell_type": "code",
   "execution_count": 5,
   "metadata": {},
   "outputs": [
    {
     "data": {
      "text/html": [
       "<div>\n",
       "<style scoped>\n",
       "    .dataframe tbody tr th:only-of-type {\n",
       "        vertical-align: middle;\n",
       "    }\n",
       "\n",
       "    .dataframe tbody tr th {\n",
       "        vertical-align: top;\n",
       "    }\n",
       "\n",
       "    .dataframe thead th {\n",
       "        text-align: right;\n",
       "    }\n",
       "</style>\n",
       "<table border=\"1\" class=\"dataframe\">\n",
       "  <thead>\n",
       "    <tr style=\"text-align: right;\">\n",
       "      <th></th>\n",
       "      <th>frequency</th>\n",
       "      <th>recency</th>\n",
       "      <th>T</th>\n",
       "      <th>monetary_value</th>\n",
       "    </tr>\n",
       "    <tr>\n",
       "      <th>customer_id</th>\n",
       "      <th></th>\n",
       "      <th></th>\n",
       "      <th></th>\n",
       "      <th></th>\n",
       "    </tr>\n",
       "  </thead>\n",
       "  <tbody>\n",
       "    <tr>\n",
       "      <th>2100000000</th>\n",
       "      <td>95.0</td>\n",
       "      <td>363.0</td>\n",
       "      <td>363.0</td>\n",
       "      <td>95.270421</td>\n",
       "    </tr>\n",
       "    <tr>\n",
       "      <th>2100000001</th>\n",
       "      <td>96.0</td>\n",
       "      <td>358.0</td>\n",
       "      <td>362.0</td>\n",
       "      <td>37.431458</td>\n",
       "    </tr>\n",
       "    <tr>\n",
       "      <th>2100000002</th>\n",
       "      <td>2.0</td>\n",
       "      <td>181.0</td>\n",
       "      <td>204.0</td>\n",
       "      <td>13.785000</td>\n",
       "    </tr>\n",
       "    <tr>\n",
       "      <th>2100000003</th>\n",
       "      <td>140.0</td>\n",
       "      <td>361.0</td>\n",
       "      <td>362.0</td>\n",
       "      <td>64.735357</td>\n",
       "    </tr>\n",
       "    <tr>\n",
       "      <th>2100000004</th>\n",
       "      <td>184.0</td>\n",
       "      <td>358.0</td>\n",
       "      <td>360.0</td>\n",
       "      <td>20.968859</td>\n",
       "    </tr>\n",
       "  </tbody>\n",
       "</table>\n",
       "</div>"
      ],
      "text/plain": [
       "             frequency  recency      T  monetary_value\n",
       "customer_id                                           \n",
       "2100000000        95.0    363.0  363.0       95.270421\n",
       "2100000001        96.0    358.0  362.0       37.431458\n",
       "2100000002         2.0    181.0  204.0       13.785000\n",
       "2100000003       140.0    361.0  362.0       64.735357\n",
       "2100000004       184.0    358.0  360.0       20.968859"
      ]
     },
     "execution_count": 5,
     "metadata": {},
     "output_type": "execute_result"
    }
   ],
   "source": [
    "training.head()"
   ]
  },
  {
   "cell_type": "markdown",
   "metadata": {},
   "source": [
    "# 1. Predicting the customer future transactions"
   ]
  },
  {
   "cell_type": "markdown",
   "metadata": {},
   "source": [
    "### 1.1 Delete the outliers"
   ]
  },
  {
   "cell_type": "code",
   "execution_count": 58,
   "metadata": {},
   "outputs": [
    {
     "data": {
      "text/plain": [
       "Text(0.5,1,'Numbers of repeated daily shopping by NWNZ clubcard customers from 2017-10-01 to 2018-09-30')"
      ]
     },
     "execution_count": 58,
     "metadata": {},
     "output_type": "execute_result"
    },
    {
     "data": {
      "image/png": "[encoded data removed]",
      "text/plain": [
       "<matplotlib.figure.Figure at 0x17aaf9b4b70>"
      ]
     },
     "metadata": {
      "needs_background": "light"
     },
     "output_type": "display_data"
    }
   ],
   "source": [
    "# Looking the rfm frequency distribution\n",
    "%matplotlib inline\n",
    "import matplotlib.pyplot as plt\n",
    "training['frequency'].plot(kind='hist', bins=50)\n",
    "plt.ylabel('Number of Customers (N=1.52million)')\n",
    "plt.xlabel('Numbers of repeated daily shopping')\n",
    "plt.title('Numbers of repeated daily shopping by NWNZ clubcard customers from 2017-10-01 to 2018-09-30')"
   ]
  },
  {
   "cell_type": "code",
   "execution_count": 49,
   "metadata": {},
   "outputs": [
    {
     "data": {
      "text/plain": [
       "Text(0.5,1,'Average daily purchased spent by NWNZ clubcard customers from 2017-10-01 to 2018-09-30')"
      ]
     },
     "execution_count": 49,
     "metadata": {},
     "output_type": "execute_result"
    },
    {
     "data": {
      "image/png": "[encoded data removed]",
      "text/plain": [
       "<matplotlib.figure.Figure at 0x17a821b82e8>"
      ]
     },
     "metadata": {
      "needs_background": "light"
     },
     "output_type": "display_data"
    }
   ],
   "source": [
    "# Looking the rfm frequency distribution\n",
    "import matplotlib.ticker as ticker\n",
    "import matplotlib.pyplot as plt\n",
    "plt.xlim([0,1000])\n",
    "\n",
    "ax = training['monetary_value'].plot(kind='hist', bins=1000)\n",
    "\n",
    "formatter = ticker.FormatStrFormatter('$%0.1f') #declaring the formatter with the $ sign and y_values with 1 decimalplace\n",
    "ax.xaxis.set_major_formatter(formatter)\n",
    "\n",
    "plt.ylabel('Number of Customers (N=1.52million)')\n",
    "plt.xlabel('Average daily purchased spent')\n",
    "plt.title('Average daily purchased spent by NWNZ clubcard customers from 2017-10-01 to 2018-09-30')"
   ]
  },
  {
   "cell_type": "code",
   "execution_count": 59,
   "metadata": {},
   "outputs": [
    {
     "data": {
      "text/plain": [
       "Text(0.5,1,'Numbers of repeated daily shopping by NWNZ clubcard customers from 2017-10-01 to 2018-09-30')"
      ]
     },
     "execution_count": 59,
     "metadata": {},
     "output_type": "execute_result"
    },
    {
     "data": {
      "image/png": "[encoded data removed]",
      "text/plain": [
       "<matplotlib.figure.Figure at 0x17a82b540b8>"
      ]
     },
     "metadata": {
      "needs_background": "light"
     },
     "output_type": "display_data"
    }
   ],
   "source": [
    "# Looking the frequency between 150 <\n",
    "import matplotlib.pyplot as plt\n",
    "training[(training['frequency'] >= 141) &(training['frequency'] <= 361)]['frequency'].plot(kind='hist', bins=50)\n",
    "plt.ylabel('Number of Customers (N=1.52million)')\n",
    "plt.xlabel('Numbers of repeated daily shopping')\n",
    "plt.title('Numbers of repeated daily shopping by NWNZ clubcard customers from 2017-10-01 to 2018-09-30')"
   ]
  },
  {
   "cell_type": "code",
   "execution_count": 92,
   "metadata": {},
   "outputs": [
    {
     "data": {
      "text/plain": [
       "Text(0.5,1,'Average daily purchased spent by NWNZ clubcard customers from 2017-10-01 to 2018-09-30')"
      ]
     },
     "execution_count": 92,
     "metadata": {},
     "output_type": "execute_result"
    },
    {
     "data": {
      "image/png": "[encoded data removed]",
      "text/plain": [
       "<matplotlib.figure.Figure at 0x1cca2c7add8>"
      ]
     },
     "metadata": {
      "needs_background": "light"
     },
     "output_type": "display_data"
    }
   ],
   "source": [
    "# Looking the monetary value $155<\n",
    "import matplotlib.pyplot as plt\n",
    "ax = training[(training['monetary_value'] >= 155) &(training['monetary_value'] <= 1000)]['monetary_value'].plot(kind='hist', bins=50)\n",
    "formatter = ticker.FormatStrFormatter('$%0.1f') #declaring the formatter with the $ sign and y_values with 1 decimalplace\n",
    "ax.xaxis.set_major_formatter(formatter)\n",
    "\n",
    "plt.ylabel('Number of Customers (N=1.52million)')\n",
    "plt.xlabel('Average daily purchased spent')\n",
    "plt.title('Average daily purchased spent by NWNZ clubcard customers from 2017-10-01 to 2018-09-30')"
   ]
  },
  {
   "cell_type": "code",
   "execution_count": 55,
   "metadata": {},
   "outputs": [
    {
     "data": {
      "text/html": [
       "<div>\n",
       "<style scoped>\n",
       "    .dataframe tbody tr th:only-of-type {\n",
       "        vertical-align: middle;\n",
       "    }\n",
       "\n",
       "    .dataframe tbody tr th {\n",
       "        vertical-align: top;\n",
       "    }\n",
       "\n",
       "    .dataframe thead th {\n",
       "        text-align: right;\n",
       "    }\n",
       "</style>\n",
       "<table border=\"1\" class=\"dataframe\">\n",
       "  <thead>\n",
       "    <tr style=\"text-align: right;\">\n",
       "      <th></th>\n",
       "      <th>Numbers of repeated daily shopping</th>\n",
       "      <th>Average daily purchased spent</th>\n",
       "    </tr>\n",
       "  </thead>\n",
       "  <tbody>\n",
       "    <tr>\n",
       "      <th>count</th>\n",
       "      <td>1529966.00000</td>\n",
       "      <td>$1,529,966.00</td>\n",
       "    </tr>\n",
       "    <tr>\n",
       "      <th>mean</th>\n",
       "      <td>44.07936</td>\n",
       "      <td>$59.26</td>\n",
       "    </tr>\n",
       "    <tr>\n",
       "      <th>std</th>\n",
       "      <td>47.95064</td>\n",
       "      <td>$51.58</td>\n",
       "    </tr>\n",
       "    <tr>\n",
       "      <th>min</th>\n",
       "      <td>0.00000</td>\n",
       "      <td>$0.00</td>\n",
       "    </tr>\n",
       "    <tr>\n",
       "      <th>25%</th>\n",
       "      <td>8.00000</td>\n",
       "      <td>$26.30</td>\n",
       "    </tr>\n",
       "    <tr>\n",
       "      <th>50%</th>\n",
       "      <td>28.00000</td>\n",
       "      <td>$45.95</td>\n",
       "    </tr>\n",
       "    <tr>\n",
       "      <th>75%</th>\n",
       "      <td>64.00000</td>\n",
       "      <td>$78.02</td>\n",
       "    </tr>\n",
       "    <tr>\n",
       "      <th>max</th>\n",
       "      <td>361.00000</td>\n",
       "      <td>$4,670.68</td>\n",
       "    </tr>\n",
       "  </tbody>\n",
       "</table>\n",
       "</div>"
      ],
      "text/plain": [
       "       Numbers of repeated daily shopping Average daily purchased spent\n",
       "count                       1529966.00000                 $1,529,966.00\n",
       "mean                             44.07936                        $59.26\n",
       "std                              47.95064                        $51.58\n",
       "min                               0.00000                         $0.00\n",
       "25%                               8.00000                        $26.30\n",
       "50%                              28.00000                        $45.95\n",
       "75%                              64.00000                        $78.02\n",
       "max                             361.00000                     $4,670.68"
      ]
     },
     "execution_count": 55,
     "metadata": {},
     "output_type": "execute_result"
    }
   ],
   "source": [
    "training_describe = training.describe()[['frequency','monetary_value']]\n",
    "training_describe.columns = ['Numbers of repeated daily shopping','Average daily purchased spent']\n",
    "pd.options.display.float_format = '{:.5f}'.format\n",
    "training_describe['Average daily purchased spent'] = training_describe['Average daily purchased spent'].map('${:,.2f}'.format)\n",
    "training_describe"
   ]
  },
  {
   "cell_type": "code",
   "execution_count": 60,
   "metadata": {},
   "outputs": [],
   "source": [
    "# Delete the Outliers\n",
    "training = training.loc[(training['frequency'] > 0) & (training['frequency'] <= 250)]"
   ]
  },
  {
   "cell_type": "markdown",
   "metadata": {},
   "source": [
    "### 1.2 Model"
   ]
  },
  {
   "cell_type": "code",
   "execution_count": 61,
   "metadata": {
    "scrolled": true
   },
   "outputs": [
    {
     "data": {
      "text/html": [
       "<div>\n",
       "<style scoped>\n",
       "    .dataframe tbody tr th:only-of-type {\n",
       "        vertical-align: middle;\n",
       "    }\n",
       "\n",
       "    .dataframe tbody tr th {\n",
       "        vertical-align: top;\n",
       "    }\n",
       "\n",
       "    .dataframe thead th {\n",
       "        text-align: right;\n",
       "    }\n",
       "</style>\n",
       "<table border=\"1\" class=\"dataframe\">\n",
       "  <thead>\n",
       "    <tr style=\"text-align: right;\">\n",
       "      <th></th>\n",
       "      <th>coef</th>\n",
       "      <th>se(coef)</th>\n",
       "      <th>lower 95% bound</th>\n",
       "      <th>upper 95% bound</th>\n",
       "    </tr>\n",
       "  </thead>\n",
       "  <tbody>\n",
       "    <tr>\n",
       "      <th>r</th>\n",
       "      <td>1.00384</td>\n",
       "      <td>0.00102</td>\n",
       "      <td>1.00184</td>\n",
       "      <td>1.00585</td>\n",
       "    </tr>\n",
       "    <tr>\n",
       "      <th>alpha</th>\n",
       "      <td>7.11020</td>\n",
       "      <td>0.00940</td>\n",
       "      <td>7.09178</td>\n",
       "      <td>7.12863</td>\n",
       "    </tr>\n",
       "    <tr>\n",
       "      <th>a</th>\n",
       "      <td>0.01795</td>\n",
       "      <td>0.00007</td>\n",
       "      <td>0.01782</td>\n",
       "      <td>0.01808</td>\n",
       "    </tr>\n",
       "    <tr>\n",
       "      <th>b</th>\n",
       "      <td>0.47081</td>\n",
       "      <td>0.00164</td>\n",
       "      <td>0.46760</td>\n",
       "      <td>0.47403</td>\n",
       "    </tr>\n",
       "  </tbody>\n",
       "</table>\n",
       "</div>"
      ],
      "text/plain": [
       "         coef  se(coef)  lower 95% bound  upper 95% bound\n",
       "r     1.00384   0.00102          1.00184          1.00585\n",
       "alpha 7.11020   0.00940          7.09178          7.12863\n",
       "a     0.01795   0.00007          0.01782          0.01808\n",
       "b     0.47081   0.00164          0.46760          0.47403"
      ]
     },
     "execution_count": 61,
     "metadata": {},
     "output_type": "execute_result"
    }
   ],
   "source": [
    "# Using the BG/NBD model\n",
    "from lifetimes import BetaGeoFitter\n",
    "bgf = BetaGeoFitter(penalizer_coef=0.05)\n",
    "bgf.fit(training['frequency'], training['recency'], training['T'])\n",
    "bgf.summary"
   ]
  },
  {
   "cell_type": "markdown",
   "metadata": {},
   "source": [
    "### 1.3 Customer Nuber of Repeated Daily Purchased prediction for next 1 year"
   ]
  },
  {
   "cell_type": "code",
   "execution_count": 62,
   "metadata": {
    "scrolled": true
   },
   "outputs": [
    {
     "data": {
      "text/html": [
       "<div>\n",
       "<style scoped>\n",
       "    .dataframe tbody tr th:only-of-type {\n",
       "        vertical-align: middle;\n",
       "    }\n",
       "\n",
       "    .dataframe tbody tr th {\n",
       "        vertical-align: top;\n",
       "    }\n",
       "\n",
       "    .dataframe thead th {\n",
       "        text-align: right;\n",
       "    }\n",
       "</style>\n",
       "<table border=\"1\" class=\"dataframe\">\n",
       "  <thead>\n",
       "    <tr style=\"text-align: right;\">\n",
       "      <th></th>\n",
       "      <th>frequency</th>\n",
       "      <th>recency</th>\n",
       "      <th>T</th>\n",
       "      <th>monetary_value</th>\n",
       "      <th>predicted_purchases</th>\n",
       "    </tr>\n",
       "    <tr>\n",
       "      <th>customer_id</th>\n",
       "      <th></th>\n",
       "      <th></th>\n",
       "      <th></th>\n",
       "      <th></th>\n",
       "      <th></th>\n",
       "    </tr>\n",
       "  </thead>\n",
       "  <tbody>\n",
       "    <tr>\n",
       "      <th>2100000000</th>\n",
       "      <td>95.00000</td>\n",
       "      <td>363.00000</td>\n",
       "      <td>363.00000</td>\n",
       "      <td>95.27042</td>\n",
       "      <td>94.00576</td>\n",
       "    </tr>\n",
       "    <tr>\n",
       "      <th>2100000001</th>\n",
       "      <td>96.00000</td>\n",
       "      <td>358.00000</td>\n",
       "      <td>362.00000</td>\n",
       "      <td>37.43146</td>\n",
       "      <td>95.20753</td>\n",
       "    </tr>\n",
       "    <tr>\n",
       "      <th>2100000002</th>\n",
       "      <td>2.00000</td>\n",
       "      <td>181.00000</td>\n",
       "      <td>204.00000</td>\n",
       "      <td>13.78500</td>\n",
       "      <td>5.02994</td>\n",
       "    </tr>\n",
       "    <tr>\n",
       "      <th>2100000003</th>\n",
       "      <td>140.00000</td>\n",
       "      <td>361.00000</td>\n",
       "      <td>362.00000</td>\n",
       "      <td>64.73536</td>\n",
       "      <td>138.44522</td>\n",
       "    </tr>\n",
       "    <tr>\n",
       "      <th>2100000004</th>\n",
       "      <td>184.00000</td>\n",
       "      <td>358.00000</td>\n",
       "      <td>360.00000</td>\n",
       "      <td>20.96886</td>\n",
       "      <td>182.61888</td>\n",
       "    </tr>\n",
       "  </tbody>\n",
       "</table>\n",
       "</div>"
      ],
      "text/plain": [
       "             frequency   recency         T  monetary_value  \\\n",
       "customer_id                                                  \n",
       "2100000000    95.00000 363.00000 363.00000        95.27042   \n",
       "2100000001    96.00000 358.00000 362.00000        37.43146   \n",
       "2100000002     2.00000 181.00000 204.00000        13.78500   \n",
       "2100000003   140.00000 361.00000 362.00000        64.73536   \n",
       "2100000004   184.00000 358.00000 360.00000        20.96886   \n",
       "\n",
       "             predicted_purchases  \n",
       "customer_id                       \n",
       "2100000000              94.00576  \n",
       "2100000001              95.20753  \n",
       "2100000002               5.02994  \n",
       "2100000003             138.44522  \n",
       "2100000004             182.61888  "
      ]
     },
     "execution_count": 62,
     "metadata": {},
     "output_type": "execute_result"
    }
   ],
   "source": [
    "#Predict for next 1 years = 365 days\n",
    "training = training[training['frequency']>0]\n",
    "t = 365\n",
    "training['predicted_purchases'] = bgf.conditional_expected_number_of_purchases_up_to_time(t, training['frequency'], training['recency'], training['T'])\n",
    "training.head(5)"
   ]
  },
  {
   "cell_type": "markdown",
   "metadata": {},
   "source": [
    "### 1.4 Calibration dataset VS holdout dataset"
   ]
  },
  {
   "cell_type": "code",
   "execution_count": 76,
   "metadata": {},
   "outputs": [],
   "source": [
    "# Reading the Training RFM(20171001~20180930) anad Test RFM(20181001~20190930)\n",
    "training = pd.read_csv(\"training_day.csv\",index_col='customer_id')\n",
    "test = pd.read_csv(\"test_day.csv\",index_col='customer_id')\n",
    "\n",
    "# Creating the Calibration_Holdout dataset\n",
    "training.columns = ['frequency_cal','recency_cal','T_cal','monetary_value_cal']\n",
    "test.columns = ['Actual Repeated Daily Purchases','recency_holdout','duration_holdout','monetary_value_holdout']\n",
    "summary_cal_holdout = pd.concat([training[['frequency_cal','recency_cal','T_cal']],test[['Actual Repeated Daily Purchases','duration_holdout']]], axis =1).dropna()"
   ]
  },
  {
   "cell_type": "code",
   "execution_count": 77,
   "metadata": {
    "scrolled": true
   },
   "outputs": [
    {
     "data": {
      "text/html": [
       "<div>\n",
       "<style scoped>\n",
       "    .dataframe tbody tr th:only-of-type {\n",
       "        vertical-align: middle;\n",
       "    }\n",
       "\n",
       "    .dataframe tbody tr th {\n",
       "        vertical-align: top;\n",
       "    }\n",
       "\n",
       "    .dataframe thead th {\n",
       "        text-align: right;\n",
       "    }\n",
       "</style>\n",
       "<table border=\"1\" class=\"dataframe\">\n",
       "  <thead>\n",
       "    <tr style=\"text-align: right;\">\n",
       "      <th></th>\n",
       "      <th>frequency_cal</th>\n",
       "      <th>recency_cal</th>\n",
       "      <th>T_cal</th>\n",
       "      <th>Actual Repeated Daily Purchases</th>\n",
       "      <th>duration_holdout</th>\n",
       "    </tr>\n",
       "    <tr>\n",
       "      <th>customer_id</th>\n",
       "      <th></th>\n",
       "      <th></th>\n",
       "      <th></th>\n",
       "      <th></th>\n",
       "      <th></th>\n",
       "    </tr>\n",
       "  </thead>\n",
       "  <tbody>\n",
       "    <tr>\n",
       "      <th>2100000000</th>\n",
       "      <td>95.00000</td>\n",
       "      <td>363.00000</td>\n",
       "      <td>363.00000</td>\n",
       "      <td>37.00000</td>\n",
       "      <td>362.00000</td>\n",
       "    </tr>\n",
       "    <tr>\n",
       "      <th>2100000001</th>\n",
       "      <td>96.00000</td>\n",
       "      <td>358.00000</td>\n",
       "      <td>362.00000</td>\n",
       "      <td>77.00000</td>\n",
       "      <td>353.00000</td>\n",
       "    </tr>\n",
       "    <tr>\n",
       "      <th>2100000002</th>\n",
       "      <td>2.00000</td>\n",
       "      <td>181.00000</td>\n",
       "      <td>204.00000</td>\n",
       "      <td>4.00000</td>\n",
       "      <td>335.00000</td>\n",
       "    </tr>\n",
       "    <tr>\n",
       "      <th>2100000003</th>\n",
       "      <td>140.00000</td>\n",
       "      <td>361.00000</td>\n",
       "      <td>362.00000</td>\n",
       "      <td>143.00000</td>\n",
       "      <td>364.00000</td>\n",
       "    </tr>\n",
       "    <tr>\n",
       "      <th>2100000004</th>\n",
       "      <td>184.00000</td>\n",
       "      <td>358.00000</td>\n",
       "      <td>360.00000</td>\n",
       "      <td>199.00000</td>\n",
       "      <td>364.00000</td>\n",
       "    </tr>\n",
       "  </tbody>\n",
       "</table>\n",
       "</div>"
      ],
      "text/plain": [
       "             frequency_cal  recency_cal     T_cal  \\\n",
       "customer_id                                         \n",
       "2100000000        95.00000    363.00000 363.00000   \n",
       "2100000001        96.00000    358.00000 362.00000   \n",
       "2100000002         2.00000    181.00000 204.00000   \n",
       "2100000003       140.00000    361.00000 362.00000   \n",
       "2100000004       184.00000    358.00000 360.00000   \n",
       "\n",
       "             Actual Repeated Daily Purchases  duration_holdout  \n",
       "customer_id                                                     \n",
       "2100000000                          37.00000         362.00000  \n",
       "2100000001                          77.00000         353.00000  \n",
       "2100000002                           4.00000         335.00000  \n",
       "2100000003                         143.00000         364.00000  \n",
       "2100000004                         199.00000         364.00000  "
      ]
     },
     "execution_count": 77,
     "metadata": {},
     "output_type": "execute_result"
    }
   ],
   "source": [
    "summary_cal_holdout.head()"
   ]
  },
  {
   "cell_type": "code",
   "execution_count": 78,
   "metadata": {
    "scrolled": true
   },
   "outputs": [
    {
     "data": {
      "text/html": [
       "<div>\n",
       "<style scoped>\n",
       "    .dataframe tbody tr th:only-of-type {\n",
       "        vertical-align: middle;\n",
       "    }\n",
       "\n",
       "    .dataframe tbody tr th {\n",
       "        vertical-align: top;\n",
       "    }\n",
       "\n",
       "    .dataframe thead th {\n",
       "        text-align: right;\n",
       "    }\n",
       "</style>\n",
       "<table border=\"1\" class=\"dataframe\">\n",
       "  <thead>\n",
       "    <tr style=\"text-align: right;\">\n",
       "      <th></th>\n",
       "      <th>frequency_cal</th>\n",
       "      <th>recency_cal</th>\n",
       "      <th>T_cal</th>\n",
       "      <th>Actual Repeated Daily Purchases</th>\n",
       "      <th>duration_holdout</th>\n",
       "    </tr>\n",
       "  </thead>\n",
       "  <tbody>\n",
       "    <tr>\n",
       "      <th>count</th>\n",
       "      <td>1372914.00000</td>\n",
       "      <td>1372914.00000</td>\n",
       "      <td>1372914.00000</td>\n",
       "      <td>1372914.00000</td>\n",
       "      <td>1372914.00000</td>\n",
       "    </tr>\n",
       "    <tr>\n",
       "      <th>mean</th>\n",
       "      <td>47.98478</td>\n",
       "      <td>293.60779</td>\n",
       "      <td>324.94564</td>\n",
       "      <td>46.10974</td>\n",
       "      <td>334.38592</td>\n",
       "    </tr>\n",
       "    <tr>\n",
       "      <th>std</th>\n",
       "      <td>48.69010</td>\n",
       "      <td>100.00310</td>\n",
       "      <td>72.20270</td>\n",
       "      <td>48.57796</td>\n",
       "      <td>57.36147</td>\n",
       "    </tr>\n",
       "    <tr>\n",
       "      <th>min</th>\n",
       "      <td>0.00000</td>\n",
       "      <td>0.00000</td>\n",
       "      <td>0.00000</td>\n",
       "      <td>0.00000</td>\n",
       "      <td>0.00000</td>\n",
       "    </tr>\n",
       "    <tr>\n",
       "      <th>25%</th>\n",
       "      <td>11.00000</td>\n",
       "      <td>274.00000</td>\n",
       "      <td>329.00000</td>\n",
       "      <td>9.00000</td>\n",
       "      <td>338.00000</td>\n",
       "    </tr>\n",
       "    <tr>\n",
       "      <th>50%</th>\n",
       "      <td>33.00000</td>\n",
       "      <td>343.00000</td>\n",
       "      <td>357.00000</td>\n",
       "      <td>31.00000</td>\n",
       "      <td>358.00000</td>\n",
       "    </tr>\n",
       "    <tr>\n",
       "      <th>75%</th>\n",
       "      <td>69.00000</td>\n",
       "      <td>358.00000</td>\n",
       "      <td>362.00000</td>\n",
       "      <td>67.00000</td>\n",
       "      <td>362.00000</td>\n",
       "    </tr>\n",
       "    <tr>\n",
       "      <th>max</th>\n",
       "      <td>361.00000</td>\n",
       "      <td>364.00000</td>\n",
       "      <td>364.00000</td>\n",
       "      <td>362.00000</td>\n",
       "      <td>364.00000</td>\n",
       "    </tr>\n",
       "  </tbody>\n",
       "</table>\n",
       "</div>"
      ],
      "text/plain": [
       "       frequency_cal   recency_cal         T_cal  \\\n",
       "count  1372914.00000 1372914.00000 1372914.00000   \n",
       "mean        47.98478     293.60779     324.94564   \n",
       "std         48.69010     100.00310      72.20270   \n",
       "min          0.00000       0.00000       0.00000   \n",
       "25%         11.00000     274.00000     329.00000   \n",
       "50%         33.00000     343.00000     357.00000   \n",
       "75%         69.00000     358.00000     362.00000   \n",
       "max        361.00000     364.00000     364.00000   \n",
       "\n",
       "       Actual Repeated Daily Purchases  duration_holdout  \n",
       "count                    1372914.00000     1372914.00000  \n",
       "mean                          46.10974         334.38592  \n",
       "std                           48.57796          57.36147  \n",
       "min                            0.00000           0.00000  \n",
       "25%                            9.00000         338.00000  \n",
       "50%                           31.00000         358.00000  \n",
       "75%                           67.00000         362.00000  \n",
       "max                          362.00000         364.00000  "
      ]
     },
     "execution_count": 78,
     "metadata": {},
     "output_type": "execute_result"
    }
   ],
   "source": [
    "summary_cal_holdout.describe()"
   ]
  },
  {
   "cell_type": "code",
   "execution_count": 79,
   "metadata": {},
   "outputs": [],
   "source": [
    "#Delete the outliers\n",
    "summary_cal_holdout = summary_cal_holdout.query('frequency_cal <= 250')"
   ]
  },
  {
   "cell_type": "code",
   "execution_count": 80,
   "metadata": {},
   "outputs": [
    {
     "name": "stderr",
     "output_type": "stream",
     "text": [
      "C:\\Python3\\lib\\site-packages\\autograd\\tracer.py:48: RuntimeWarning: invalid value encountered in log\n",
      "  return f_raw(*args, **kwargs)\n"
     ]
    },
    {
     "data": {
      "text/plain": [
       "<matplotlib.axes._subplots.AxesSubplot at 0x17a83187be0>"
      ]
     },
     "execution_count": 80,
     "metadata": {},
     "output_type": "execute_result"
    },
    {
     "data": {
      "text/plain": [
       "<matplotlib.figure.Figure at 0x17a831f2c18>"
      ]
     },
     "metadata": {},
     "output_type": "display_data"
    },
    {
     "data": {
      "image/png": "[encoded data removed]",
      "text/plain": [
       "<matplotlib.figure.Figure at 0x17a83177080>"
      ]
     },
     "metadata": {
      "needs_background": "light"
     },
     "output_type": "display_data"
    }
   ],
   "source": [
    "# Draw the calibration_purchases_vs_holdout_purchases Graph\n",
    "def plot_calibration_purchases_vs_holdout_purchases(\n",
    "    model, calibration_holdout_matrix, kind=\"frequency_cal\", n=7, **kwargs\n",
    "):\n",
    "    \"\"\"\n",
    "    Plot calibration purchases vs holdout.\n",
    "    This currently relies too much on the lifetimes.util calibration_and_holdout_data function.\n",
    "    Parameters\n",
    "    ----------\n",
    "    model: lifetimes model\n",
    "        A fitted lifetimes model.\n",
    "    calibration_holdout_matrix: pandas DataFrame\n",
    "        DataFrame from calibration_and_holdout_data function.\n",
    "    kind: str, optional\n",
    "        x-axis :\"frequency_cal\". Purchases in calibration period,\n",
    "                 \"recency_cal\". Age of customer at last purchase,\n",
    "                 \"T_cal\". Age of customer at the end of calibration period,\n",
    "                 \"time_since_last_purchase\". Time since user made last purchase\n",
    "    n: int, optional\n",
    "        Number of ticks on the x axis\n",
    "    Returns\n",
    "    -------\n",
    "    axes: matplotlib.AxesSubplot\n",
    "    \"\"\"\n",
    "    from matplotlib import pyplot as plt\n",
    "\n",
    "    x_labels = {\n",
    "        \"frequency_cal\": \"Repeated Daily Purchases from 20171001 to 20180930\",\n",
    "        \"recency_cal\": \"Age of customer at last purchase\",\n",
    "        \"T_cal\": \"Age of customer at the end of calibration period\",\n",
    "        \"time_since_last_purchase\": \"Time since user made last purchase\",\n",
    "    }\n",
    "    summary = calibration_holdout_matrix.copy()\n",
    "    duration_holdout = summary.iloc[0][\"duration_holdout\"]\n",
    "\n",
    "    summary[\"Prediction Repeated Daily Purchases\"] = model.conditional_expected_number_of_purchases_up_to_time(\n",
    "            duration_holdout, summary[\"frequency_cal\"], summary[\"recency_cal\"], summary[\"T_cal\"])\n",
    "\n",
    "    if kind == \"time_since_last_purchase\":\n",
    "        summary[\"time_since_last_purchase\"] = summary[\"T_cal\"] - summary[\"recency_cal\"]\n",
    "        ax = (\n",
    "            summary.groupby([\"time_since_last_purchase\"])[[\"Actual Repeated Daily Purchases\", \"Prediction Repeated Daily Purchases\"]]\n",
    "            .mean()\n",
    "            .iloc[:n]\n",
    "            .plot(**kwargs)\n",
    "        )\n",
    "    else:\n",
    "        ax = summary.groupby(kind)[[\"Actual Repeated Daily Purchases\", \"Prediction Repeated Daily Purchases\"]].mean().iloc[:n].plot(**kwargs)\n",
    "\n",
    "    plt.title(\"Actual Repeated Daily Purchases vs Prediction Repeated Daily Purchases\")\n",
    "    plt.xlabel(x_labels[kind])\n",
    "    plt.ylabel(\"Average of Repeated Daily Purchases from 20181001 to 20190930\")\n",
    "    plt.legend()\n",
    "\n",
    "    return ax\n",
    "\n",
    "import matplotlib.pyplot as plt\n",
    "bgf = BetaGeoFitter(penalizer_coef=0.05)\n",
    "bgf.fit(summary_cal_holdout['frequency_cal'], summary_cal_holdout['recency_cal'], summary_cal_holdout['T_cal'])\n",
    "fig = plt.figure(figsize=(16,12))\n",
    "plot_calibration_purchases_vs_holdout_purchases(bgf, summary_cal_holdout, n=250)"
   ]
  },
  {
   "cell_type": "markdown",
   "metadata": {},
   "source": [
    "### 1.5 Prediction Error"
   ]
  },
  {
   "cell_type": "code",
   "execution_count": 82,
   "metadata": {},
   "outputs": [
    {
     "data": {
      "text/plain": [
       "0.08460151246276497"
      ]
     },
     "execution_count": 82,
     "metadata": {},
     "output_type": "execute_result"
    }
   ],
   "source": [
    "summary_cal_holdout = summary_cal_holdout[summary_cal_holdout['frequency_cal']>0]\n",
    "t = 365\n",
    "summary_cal_holdout['predicted_purchases'] = bgf.conditional_expected_number_of_purchases_up_to_time(t, summary_cal_holdout['frequency_cal'], summary_cal_holdout['recency_cal'], summary_cal_holdout['T_cal'])\n",
    "holdout = summary_cal_holdout['Actual Repeated Daily Purchases'].sum(axis = 0)\n",
    "prediction = summary_cal_holdout['predicted_purchases'].sum(axis = 0)\n",
    "(prediction-holdout)/holdout"
   ]
  },
  {
   "cell_type": "markdown",
   "metadata": {},
   "source": [
    "8.4% Prediction error"
   ]
  },
  {
   "cell_type": "markdown",
   "metadata": {},
   "source": [
    "# 2. Predicting the customer probability of Churn"
   ]
  },
  {
   "cell_type": "markdown",
   "metadata": {},
   "source": [
    "### 2.1 Calculating the probability of Churn at the 20190930"
   ]
  },
  {
   "cell_type": "code",
   "execution_count": 34,
   "metadata": {},
   "outputs": [
    {
     "data": {
      "text/html": [
       "<div>\n",
       "<style scoped>\n",
       "    .dataframe tbody tr th:only-of-type {\n",
       "        vertical-align: middle;\n",
       "    }\n",
       "\n",
       "    .dataframe tbody tr th {\n",
       "        vertical-align: top;\n",
       "    }\n",
       "\n",
       "    .dataframe thead th {\n",
       "        text-align: right;\n",
       "    }\n",
       "</style>\n",
       "<table border=\"1\" class=\"dataframe\">\n",
       "  <thead>\n",
       "    <tr style=\"text-align: right;\">\n",
       "      <th></th>\n",
       "      <th>coef</th>\n",
       "      <th>se(coef)</th>\n",
       "      <th>lower 95% bound</th>\n",
       "      <th>upper 95% bound</th>\n",
       "    </tr>\n",
       "  </thead>\n",
       "  <tbody>\n",
       "    <tr>\n",
       "      <th>r</th>\n",
       "      <td>1.003844</td>\n",
       "      <td>0.001022</td>\n",
       "      <td>1.001841</td>\n",
       "      <td>1.005846</td>\n",
       "    </tr>\n",
       "    <tr>\n",
       "      <th>alpha</th>\n",
       "      <td>7.110203</td>\n",
       "      <td>0.009399</td>\n",
       "      <td>7.091781</td>\n",
       "      <td>7.128626</td>\n",
       "    </tr>\n",
       "    <tr>\n",
       "      <th>a</th>\n",
       "      <td>0.017952</td>\n",
       "      <td>0.000065</td>\n",
       "      <td>0.017824</td>\n",
       "      <td>0.018079</td>\n",
       "    </tr>\n",
       "    <tr>\n",
       "      <th>b</th>\n",
       "      <td>0.470814</td>\n",
       "      <td>0.001640</td>\n",
       "      <td>0.467599</td>\n",
       "      <td>0.474029</td>\n",
       "    </tr>\n",
       "  </tbody>\n",
       "</table>\n",
       "</div>"
      ],
      "text/plain": [
       "           coef  se(coef)  lower 95% bound  upper 95% bound\n",
       "r      1.003844  0.001022         1.001841         1.005846\n",
       "alpha  7.110203  0.009399         7.091781         7.128626\n",
       "a      0.017952  0.000065         0.017824         0.018079\n",
       "b      0.470814  0.001640         0.467599         0.474029"
      ]
     },
     "execution_count": 34,
     "metadata": {},
     "output_type": "execute_result"
    }
   ],
   "source": [
    "# Import the Training and test dataset\n",
    "training = pd.read_csv(\"training_day.csv\",index_col='customer_id')\n",
    "test = pd.read_csv(\"test_day.csv\",index_col='customer_id')\n",
    "\n",
    "#Delete outliers\n",
    "training = training.loc[(training['frequency'] > 0) & (training['frequency'] <= 250)]\n",
    "\n",
    "# Using the BG/NBD model\n",
    "from lifetimes import BetaGeoFitter\n",
    "bgf = BetaGeoFitter(penalizer_coef=0.05)\n",
    "bgf.fit(training['frequency'], training['recency'], training['T'])\n",
    "bgf.summary"
   ]
  },
  {
   "cell_type": "code",
   "execution_count": 35,
   "metadata": {},
   "outputs": [
    {
     "data": {
      "text/html": [
       "<div>\n",
       "<style scoped>\n",
       "    .dataframe tbody tr th:only-of-type {\n",
       "        vertical-align: middle;\n",
       "    }\n",
       "\n",
       "    .dataframe tbody tr th {\n",
       "        vertical-align: top;\n",
       "    }\n",
       "\n",
       "    .dataframe thead th {\n",
       "        text-align: right;\n",
       "    }\n",
       "</style>\n",
       "<table border=\"1\" class=\"dataframe\">\n",
       "  <thead>\n",
       "    <tr style=\"text-align: right;\">\n",
       "      <th></th>\n",
       "      <th>frequency</th>\n",
       "      <th>recency</th>\n",
       "      <th>T</th>\n",
       "      <th>monetary_value</th>\n",
       "      <th>Churn</th>\n",
       "    </tr>\n",
       "    <tr>\n",
       "      <th>customer_id</th>\n",
       "      <th></th>\n",
       "      <th></th>\n",
       "      <th></th>\n",
       "      <th></th>\n",
       "      <th></th>\n",
       "    </tr>\n",
       "  </thead>\n",
       "  <tbody>\n",
       "    <tr>\n",
       "      <th>2100000000</th>\n",
       "      <td>37.0</td>\n",
       "      <td>311.0</td>\n",
       "      <td>362.0</td>\n",
       "      <td>134.787838</td>\n",
       "      <td>0.122873</td>\n",
       "    </tr>\n",
       "    <tr>\n",
       "      <th>2100000001</th>\n",
       "      <td>77.0</td>\n",
       "      <td>347.0</td>\n",
       "      <td>353.0</td>\n",
       "      <td>31.061558</td>\n",
       "      <td>0.000870</td>\n",
       "    </tr>\n",
       "    <tr>\n",
       "      <th>2100000002</th>\n",
       "      <td>4.0</td>\n",
       "      <td>309.0</td>\n",
       "      <td>335.0</td>\n",
       "      <td>29.300000</td>\n",
       "      <td>0.007623</td>\n",
       "    </tr>\n",
       "    <tr>\n",
       "      <th>2100000003</th>\n",
       "      <td>143.0</td>\n",
       "      <td>357.0</td>\n",
       "      <td>364.0</td>\n",
       "      <td>59.866783</td>\n",
       "      <td>0.001952</td>\n",
       "    </tr>\n",
       "    <tr>\n",
       "      <th>2100000004</th>\n",
       "      <td>199.0</td>\n",
       "      <td>364.0</td>\n",
       "      <td>364.0</td>\n",
       "      <td>19.970553</td>\n",
       "      <td>0.000090</td>\n",
       "    </tr>\n",
       "  </tbody>\n",
       "</table>\n",
       "</div>"
      ],
      "text/plain": [
       "             frequency  recency      T  monetary_value     Churn\n",
       "customer_id                                                     \n",
       "2100000000        37.0    311.0  362.0      134.787838  0.122873\n",
       "2100000001        77.0    347.0  353.0       31.061558  0.000870\n",
       "2100000002         4.0    309.0  335.0       29.300000  0.007623\n",
       "2100000003       143.0    357.0  364.0       59.866783  0.001952\n",
       "2100000004       199.0    364.0  364.0       19.970553  0.000090"
      ]
     },
     "execution_count": 35,
     "metadata": {},
     "output_type": "execute_result"
    }
   ],
   "source": [
    "#Predict that customers still alive on the date of 2019-09-30\n",
    "test_probability_alive = test[test['frequency']>0]\n",
    "test_probability_alive['Churn'] = 1 - bgf.conditional_probability_alive(test_probability_alive['frequency'], test_probability_alive['recency'], test_probability_alive['T'])\n",
    "test_probability_alive.head(5)"
   ]
  },
  {
   "cell_type": "code",
   "execution_count": 51,
   "metadata": {
    "scrolled": true
   },
   "outputs": [
    {
     "data": {
      "text/plain": [
       "Text(0.5,1,'Customer Probability of Churn Distributaion')"
      ]
     },
     "execution_count": 51,
     "metadata": {},
     "output_type": "execute_result"
    },
    {
     "data": {
      "image/png": "[encoded data removed]",
      "text/plain": [
       "<matplotlib.figure.Figure at 0x1cca273d860>"
      ]
     },
     "metadata": {
      "needs_background": "light"
     },
     "output_type": "display_data"
    }
   ],
   "source": [
    "# Distribution for the pobability of alive \n",
    "%matplotlib inline\n",
    "import matplotlib.pyplot as plt\n",
    "test_probability_alive['Churn'].plot(kind='hist', bins=50)\n",
    "plt.ylabel('Number of Customers')\n",
    "plt.xlabel('Probability of Churn')\n",
    "plt.title('Customer Probability of Churn Distributaion')"
   ]
  },
  {
   "cell_type": "code",
   "execution_count": 76,
   "metadata": {
    "scrolled": true
   },
   "outputs": [
    {
     "data": {
      "image/png": "[encoded data removed]",
      "text/plain": [
       "<matplotlib.figure.Figure at 0x1cc8fe92278>"
      ]
     },
     "metadata": {
      "needs_background": "light"
     },
     "output_type": "display_data"
    }
   ],
   "source": [
    "import matplotlib.pyplot as plt\n",
    "import numpy as np\n",
    "from matplotlib.patches import Rectangle\n",
    "\n",
    "data = test_probability_alive['Churn']\n",
    "\n",
    "N, bins, patches = plt.hist(data, 30, ec=\"k\")\n",
    "\n",
    "cmap = plt.get_cmap('jet')\n",
    "low = cmap(0.5)\n",
    "medium =cmap(0.25)\n",
    "high = cmap(0.8)\n",
    "very_high = cmap(1.0)\n",
    "\n",
    "for i in range(0,1):\n",
    "    patches[i].set_facecolor(low)\n",
    "for i in range(1,6):\n",
    "    patches[i].set_facecolor(medium)\n",
    "for i in range(6,15):\n",
    "    patches[i].set_facecolor(high)\n",
    "for i in range(15,30):\n",
    "    patches[i].set_facecolor(very_high)\n",
    "\n",
    "#create legend\n",
    "handles = [Rectangle((0,0),1,1,color=c,ec=\"k\") for c in [low,medium, high,very_high]]\n",
    "labels= [\"safe\",\"Waving\", \"Accelerated churn\", \"Churned\"]\n",
    "plt.legend(handles, labels)\n",
    "\n",
    "plt.xlabel(\"Probability of Churn\", fontsize=10)  \n",
    "plt.ylabel(\"Number of Customers\", fontsize=10)\n",
    "plt.title('Customer Probability of Churn Distributaion', fontsize=16)\n",
    "plt.xticks(fontsize=14)  \n",
    "plt.yticks(fontsize=14)\n",
    "\n",
    "plt.gca().spines[\"top\"].set_visible(False)  \n",
    "plt.gca().spines[\"right\"].set_visible(False)\n",
    "\n",
    "plt.show()"
   ]
  },
  {
   "cell_type": "code",
   "execution_count": 80,
   "metadata": {
    "scrolled": true
   },
   "outputs": [
    {
     "data": {
      "text/plain": [
       "0.057298073850347984"
      ]
     },
     "execution_count": 80,
     "metadata": {},
     "output_type": "execute_result"
    }
   ],
   "source": [
    "# Portion of waving customers\n",
    "test_probability_alive[(test_probability_alive['Churn'] > 0.05) & ((test_probability_alive['Churn'] <=0.2))].shape[0]/test_probability_alive.shape[0]"
   ]
  },
  {
   "cell_type": "markdown",
   "metadata": {},
   "source": [
    "### 2.2 Probability of Churned by Loyalty Group"
   ]
  },
  {
   "cell_type": "code",
   "execution_count": 91,
   "metadata": {},
   "outputs": [
    {
     "data": {
      "text/html": [
       "<div>\n",
       "<style scoped>\n",
       "    .dataframe tbody tr th:only-of-type {\n",
       "        vertical-align: middle;\n",
       "    }\n",
       "\n",
       "    .dataframe tbody tr th {\n",
       "        vertical-align: top;\n",
       "    }\n",
       "\n",
       "    .dataframe thead th {\n",
       "        text-align: right;\n",
       "    }\n",
       "</style>\n",
       "<table border=\"1\" class=\"dataframe\">\n",
       "  <thead>\n",
       "    <tr style=\"text-align: right;\">\n",
       "      <th></th>\n",
       "      <th>customer_id</th>\n",
       "      <th>Churn</th>\n",
       "      <th>BUSINESS_PARTNER_ID</th>\n",
       "      <th>LOYALTY_GROUP_MD</th>\n",
       "    </tr>\n",
       "  </thead>\n",
       "  <tbody>\n",
       "    <tr>\n",
       "      <th>0</th>\n",
       "      <td>2100000000</td>\n",
       "      <td>0.12287</td>\n",
       "      <td>2100000000</td>\n",
       "      <td>Unassigned</td>\n",
       "    </tr>\n",
       "    <tr>\n",
       "      <th>1</th>\n",
       "      <td>2100000001</td>\n",
       "      <td>0.00087</td>\n",
       "      <td>2100000001</td>\n",
       "      <td>Habitual</td>\n",
       "    </tr>\n",
       "    <tr>\n",
       "      <th>2</th>\n",
       "      <td>2100000002</td>\n",
       "      <td>0.00762</td>\n",
       "      <td>2100000002</td>\n",
       "      <td>Irregular</td>\n",
       "    </tr>\n",
       "    <tr>\n",
       "      <th>3</th>\n",
       "      <td>2100000003</td>\n",
       "      <td>0.00195</td>\n",
       "      <td>2100000003</td>\n",
       "      <td>VIP</td>\n",
       "    </tr>\n",
       "    <tr>\n",
       "      <th>4</th>\n",
       "      <td>2100000004</td>\n",
       "      <td>0.00009</td>\n",
       "      <td>2100000004</td>\n",
       "      <td>Habitual</td>\n",
       "    </tr>\n",
       "  </tbody>\n",
       "</table>\n",
       "</div>"
      ],
      "text/plain": [
       "   customer_id   Churn  BUSINESS_PARTNER_ID LOYALTY_GROUP_MD\n",
       "0   2100000000 0.12287           2100000000       Unassigned\n",
       "1   2100000001 0.00087           2100000001         Habitual\n",
       "2   2100000002 0.00762           2100000002        Irregular\n",
       "3   2100000003 0.00195           2100000003              VIP\n",
       "4   2100000004 0.00009           2100000004         Habitual"
      ]
     },
     "execution_count": 91,
     "metadata": {},
     "output_type": "execute_result"
    }
   ],
   "source": [
    "RFM_Customer = pd.read_csv('CHURN_RFM_CUSTOMER.csv')\n",
    "bb = test_probability_alive.reset_index('customer_id')[['customer_id','Churn']]\n",
    "RFM_Customer_Alive = pd.merge(bb, RFM_Customer, how='inner', left_on = 'customer_id', right_on = 'BUSINESS_PARTNER_ID')\n",
    "RFM_Customer_Alive.head()"
   ]
  },
  {
   "cell_type": "markdown",
   "metadata": {},
   "source": [
    "#### VIP"
   ]
  },
  {
   "cell_type": "code",
   "execution_count": 92,
   "metadata": {},
   "outputs": [
    {
     "data": {
      "text/html": [
       "<div>\n",
       "<style scoped>\n",
       "    .dataframe tbody tr th:only-of-type {\n",
       "        vertical-align: middle;\n",
       "    }\n",
       "\n",
       "    .dataframe tbody tr th {\n",
       "        vertical-align: top;\n",
       "    }\n",
       "\n",
       "    .dataframe thead th {\n",
       "        text-align: right;\n",
       "    }\n",
       "</style>\n",
       "<table border=\"1\" class=\"dataframe\">\n",
       "  <thead>\n",
       "    <tr style=\"text-align: right;\">\n",
       "      <th></th>\n",
       "      <th>Safe</th>\n",
       "      <th>Waving</th>\n",
       "      <th>Accelerated_Churn</th>\n",
       "      <th>Churned</th>\n",
       "    </tr>\n",
       "  </thead>\n",
       "  <tbody>\n",
       "    <tr>\n",
       "      <th>VIP</th>\n",
       "      <td>0.99654</td>\n",
       "      <td>0.00166</td>\n",
       "      <td>0.00075</td>\n",
       "      <td>0.00105</td>\n",
       "    </tr>\n",
       "  </tbody>\n",
       "</table>\n",
       "</div>"
      ],
      "text/plain": [
       "       Safe  Waving  Accelerated_Churn  Churned\n",
       "VIP 0.99654 0.00166            0.00075  0.00105"
      ]
     },
     "execution_count": 92,
     "metadata": {},
     "output_type": "execute_result"
    }
   ],
   "source": [
    "RFM_Customer_Alive_VIP = RFM_Customer_Alive[RFM_Customer_Alive['LOYALTY_GROUP_MD'] == 'VIP']\n",
    "safe = RFM_Customer_Alive_VIP[(RFM_Customer_Alive_VIP['Churn'] >=0) & (RFM_Customer_Alive_VIP['Churn'] <= 0.05)].count()/RFM_Customer_Alive_VIP.count()\n",
    "Waving = RFM_Customer_Alive_VIP[(RFM_Customer_Alive_VIP['Churn'] >0.05) & (RFM_Customer_Alive_VIP['Churn'] <= 0.2)].count()/RFM_Customer_Alive_VIP.count()\n",
    "Accelerated_Churn = RFM_Customer_Alive_VIP[(RFM_Customer_Alive_VIP['Churn'] >0.2) & (RFM_Customer_Alive_VIP['Churn'] <= 0.5)].count()/RFM_Customer_Alive_VIP.count()\n",
    "Churned = RFM_Customer_Alive_VIP[(RFM_Customer_Alive_VIP['Churn'] >0.5) & (RFM_Customer_Alive_VIP['Churn'] <= 1)].count()/RFM_Customer_Alive_VIP.count()\n",
    "dataframe = {'Safe':[safe.customer_id],'Waving':[Waving.customer_id], 'Accelerated_Churn': [Accelerated_Churn.customer_id], 'Churned':[Churned.customer_id]}\n",
    "\n",
    "vip_dataframe = pd.DataFrame(dataframe)\n",
    "vip_dataframe.rename(index={0: 'VIP'}, inplace= True)\n",
    "vip_dataframe"
   ]
  },
  {
   "cell_type": "markdown",
   "metadata": {},
   "source": [
    "#### Loyal"
   ]
  },
  {
   "cell_type": "code",
   "execution_count": 93,
   "metadata": {},
   "outputs": [
    {
     "data": {
      "text/html": [
       "<div>\n",
       "<style scoped>\n",
       "    .dataframe tbody tr th:only-of-type {\n",
       "        vertical-align: middle;\n",
       "    }\n",
       "\n",
       "    .dataframe tbody tr th {\n",
       "        vertical-align: top;\n",
       "    }\n",
       "\n",
       "    .dataframe thead th {\n",
       "        text-align: right;\n",
       "    }\n",
       "</style>\n",
       "<table border=\"1\" class=\"dataframe\">\n",
       "  <thead>\n",
       "    <tr style=\"text-align: right;\">\n",
       "      <th></th>\n",
       "      <th>Safe</th>\n",
       "      <th>Waving</th>\n",
       "      <th>Accelerated_Churn</th>\n",
       "      <th>Churned</th>\n",
       "    </tr>\n",
       "  </thead>\n",
       "  <tbody>\n",
       "    <tr>\n",
       "      <th>LOYAL</th>\n",
       "      <td>0.99645</td>\n",
       "      <td>0.00192</td>\n",
       "      <td>0.00072</td>\n",
       "      <td>0.00090</td>\n",
       "    </tr>\n",
       "  </tbody>\n",
       "</table>\n",
       "</div>"
      ],
      "text/plain": [
       "         Safe  Waving  Accelerated_Churn  Churned\n",
       "LOYAL 0.99645 0.00192            0.00072  0.00090"
      ]
     },
     "execution_count": 93,
     "metadata": {},
     "output_type": "execute_result"
    }
   ],
   "source": [
    "RFM_Customer_Alive_loyal = RFM_Customer_Alive[RFM_Customer_Alive['LOYALTY_GROUP_MD'] == 'Loyal']\n",
    "safe = RFM_Customer_Alive_loyal[(RFM_Customer_Alive_loyal['Churn'] >=0) & (RFM_Customer_Alive_loyal['Churn'] <= 0.05)].count()/RFM_Customer_Alive_loyal.count()\n",
    "Waving = RFM_Customer_Alive_loyal[(RFM_Customer_Alive_loyal['Churn'] >0.05) & (RFM_Customer_Alive_loyal['Churn'] <= 0.2)].count()/RFM_Customer_Alive_loyal.count()\n",
    "Accelerated_Churn = RFM_Customer_Alive_loyal[(RFM_Customer_Alive_loyal['Churn'] >0.2) & (RFM_Customer_Alive_loyal['Churn'] <= 0.5)].count()/RFM_Customer_Alive_loyal.count()\n",
    "Churned = RFM_Customer_Alive_loyal[(RFM_Customer_Alive_loyal['Churn'] >0.5) & (RFM_Customer_Alive_loyal['Churn'] <= 1)].count()/RFM_Customer_Alive_loyal.count()\n",
    "dataframe = {'Safe':[safe.customer_id],'Waving':[Waving.customer_id], 'Accelerated_Churn': [Accelerated_Churn.customer_id], 'Churned':[Churned.customer_id]}\n",
    "\n",
    "loyal_dataframe = pd.DataFrame(dataframe)\n",
    "loyal_dataframe.rename(index={0: 'LOYAL'}, inplace= True)\n",
    "loyal_dataframe"
   ]
  },
  {
   "cell_type": "markdown",
   "metadata": {},
   "source": [
    "#### Habitual"
   ]
  },
  {
   "cell_type": "code",
   "execution_count": 94,
   "metadata": {},
   "outputs": [
    {
     "data": {
      "text/html": [
       "<div>\n",
       "<style scoped>\n",
       "    .dataframe tbody tr th:only-of-type {\n",
       "        vertical-align: middle;\n",
       "    }\n",
       "\n",
       "    .dataframe tbody tr th {\n",
       "        vertical-align: top;\n",
       "    }\n",
       "\n",
       "    .dataframe thead th {\n",
       "        text-align: right;\n",
       "    }\n",
       "</style>\n",
       "<table border=\"1\" class=\"dataframe\">\n",
       "  <thead>\n",
       "    <tr style=\"text-align: right;\">\n",
       "      <th></th>\n",
       "      <th>Safe</th>\n",
       "      <th>Waving</th>\n",
       "      <th>Accelerated_Churn</th>\n",
       "      <th>Churned</th>\n",
       "    </tr>\n",
       "  </thead>\n",
       "  <tbody>\n",
       "    <tr>\n",
       "      <th>HABITUAL</th>\n",
       "      <td>0.99718</td>\n",
       "      <td>0.00192</td>\n",
       "      <td>0.00052</td>\n",
       "      <td>0.00038</td>\n",
       "    </tr>\n",
       "  </tbody>\n",
       "</table>\n",
       "</div>"
      ],
      "text/plain": [
       "            Safe  Waving  Accelerated_Churn  Churned\n",
       "HABITUAL 0.99718 0.00192            0.00052  0.00038"
      ]
     },
     "execution_count": 94,
     "metadata": {},
     "output_type": "execute_result"
    }
   ],
   "source": [
    "RFM_Customer_Alive_Habitual = RFM_Customer_Alive[RFM_Customer_Alive['LOYALTY_GROUP_MD'] == 'Habitual']\n",
    "safe = RFM_Customer_Alive_Habitual[(RFM_Customer_Alive_Habitual['Churn'] >=0) & (RFM_Customer_Alive_Habitual['Churn'] <= 0.05)].count()/RFM_Customer_Alive_Habitual.count()\n",
    "Waving = RFM_Customer_Alive_Habitual[(RFM_Customer_Alive_Habitual['Churn'] >0.05) & (RFM_Customer_Alive_Habitual['Churn'] <= 0.2)].count()/RFM_Customer_Alive_Habitual.count()\n",
    "Accelerated_Churn = RFM_Customer_Alive_Habitual[(RFM_Customer_Alive_Habitual['Churn'] >0.2) & (RFM_Customer_Alive_Habitual['Churn'] <= 0.5)].count()/RFM_Customer_Alive_Habitual.count()\n",
    "Churned = RFM_Customer_Alive_Habitual[(RFM_Customer_Alive_Habitual['Churn'] >0.5) & (RFM_Customer_Alive_Habitual['Churn'] <= 1)].count()/RFM_Customer_Alive_Habitual.count()\n",
    "dataframe = {'Safe':[safe.customer_id],'Waving':[Waving.customer_id], 'Accelerated_Churn': [Accelerated_Churn.customer_id], 'Churned':[Churned.customer_id]}\n",
    "\n",
    "Habitual_dataframe = pd.DataFrame(dataframe)\n",
    "Habitual_dataframe.rename(index={0: 'HABITUAL'}, inplace= True)\n",
    "Habitual_dataframe"
   ]
  },
  {
   "cell_type": "markdown",
   "metadata": {},
   "source": [
    "#### Desirables"
   ]
  },
  {
   "cell_type": "code",
   "execution_count": 95,
   "metadata": {
    "scrolled": true
   },
   "outputs": [
    {
     "data": {
      "text/html": [
       "<div>\n",
       "<style scoped>\n",
       "    .dataframe tbody tr th:only-of-type {\n",
       "        vertical-align: middle;\n",
       "    }\n",
       "\n",
       "    .dataframe tbody tr th {\n",
       "        vertical-align: top;\n",
       "    }\n",
       "\n",
       "    .dataframe thead th {\n",
       "        text-align: right;\n",
       "    }\n",
       "</style>\n",
       "<table border=\"1\" class=\"dataframe\">\n",
       "  <thead>\n",
       "    <tr style=\"text-align: right;\">\n",
       "      <th></th>\n",
       "      <th>Safe</th>\n",
       "      <th>Waving</th>\n",
       "      <th>Accelerated_Churn</th>\n",
       "      <th>Churned</th>\n",
       "    </tr>\n",
       "  </thead>\n",
       "  <tbody>\n",
       "    <tr>\n",
       "      <th>DESIRABLES</th>\n",
       "      <td>0.93149</td>\n",
       "      <td>0.02665</td>\n",
       "      <td>0.01156</td>\n",
       "      <td>0.03029</td>\n",
       "    </tr>\n",
       "  </tbody>\n",
       "</table>\n",
       "</div>"
      ],
      "text/plain": [
       "              Safe  Waving  Accelerated_Churn  Churned\n",
       "DESIRABLES 0.93149 0.02665            0.01156  0.03029"
      ]
     },
     "execution_count": 95,
     "metadata": {},
     "output_type": "execute_result"
    }
   ],
   "source": [
    "RFM_Customer_Alive_Desirables = RFM_Customer_Alive[RFM_Customer_Alive['LOYALTY_GROUP_MD'] == 'Desirables']\n",
    "safe = RFM_Customer_Alive_Desirables[(RFM_Customer_Alive_Desirables['Churn'] >=0) & (RFM_Customer_Alive_Desirables['Churn'] <= 0.05)].count()/RFM_Customer_Alive_Desirables.count()\n",
    "Waving = RFM_Customer_Alive_Desirables[(RFM_Customer_Alive_Desirables['Churn'] >0.05) & (RFM_Customer_Alive_Desirables['Churn'] <= 0.2)].count()/RFM_Customer_Alive_Desirables.count()\n",
    "Accelerated_Churn = RFM_Customer_Alive_Desirables[(RFM_Customer_Alive_Desirables['Churn'] >0.2) & (RFM_Customer_Alive_Desirables['Churn'] <= 0.5)].count()/RFM_Customer_Alive_Desirables.count()\n",
    "Churned = RFM_Customer_Alive_Desirables[(RFM_Customer_Alive_Desirables['Churn'] >0.5) & (RFM_Customer_Alive_Desirables['Churn'] <= 1)].count()/RFM_Customer_Alive_Desirables.count()\n",
    "dataframe = {'Safe':[safe.customer_id],'Waving':[Waving.customer_id], 'Accelerated_Churn': [Accelerated_Churn.customer_id], 'Churned':[Churned.customer_id]}\n",
    "\n",
    "Desirables_dataframe = pd.DataFrame(dataframe)\n",
    "Desirables_dataframe.rename(index={0: 'DESIRABLES'}, inplace= True)\n",
    "Desirables_dataframe"
   ]
  },
  {
   "cell_type": "markdown",
   "metadata": {},
   "source": [
    "#### Others"
   ]
  },
  {
   "cell_type": "code",
   "execution_count": 96,
   "metadata": {},
   "outputs": [
    {
     "data": {
      "text/html": [
       "<div>\n",
       "<style scoped>\n",
       "    .dataframe tbody tr th:only-of-type {\n",
       "        vertical-align: middle;\n",
       "    }\n",
       "\n",
       "    .dataframe tbody tr th {\n",
       "        vertical-align: top;\n",
       "    }\n",
       "\n",
       "    .dataframe thead th {\n",
       "        text-align: right;\n",
       "    }\n",
       "</style>\n",
       "<table border=\"1\" class=\"dataframe\">\n",
       "  <thead>\n",
       "    <tr style=\"text-align: right;\">\n",
       "      <th></th>\n",
       "      <th>Safe</th>\n",
       "      <th>Waving</th>\n",
       "      <th>Accelerated_Churn</th>\n",
       "      <th>Churned</th>\n",
       "    </tr>\n",
       "  </thead>\n",
       "  <tbody>\n",
       "    <tr>\n",
       "      <th>OTHERS</th>\n",
       "      <td>0.87365</td>\n",
       "      <td>0.06110</td>\n",
       "      <td>0.02539</td>\n",
       "      <td>0.03986</td>\n",
       "    </tr>\n",
       "  </tbody>\n",
       "</table>\n",
       "</div>"
      ],
      "text/plain": [
       "          Safe  Waving  Accelerated_Churn  Churned\n",
       "OTHERS 0.87365 0.06110            0.02539  0.03986"
      ]
     },
     "execution_count": 96,
     "metadata": {},
     "output_type": "execute_result"
    }
   ],
   "source": [
    "RFM_Customer_Alive_Others = RFM_Customer_Alive[RFM_Customer_Alive['LOYALTY_GROUP_MD'].isin(['Irregular','Switchers','Casual / Top-Ups','Unassigned\t'])]\n",
    "safe = RFM_Customer_Alive_Others[(RFM_Customer_Alive_Others['Churn'] >=0) & (RFM_Customer_Alive_Others['Churn'] <= 0.05)].count()/RFM_Customer_Alive_Others.count()\n",
    "Waving = RFM_Customer_Alive_Others[(RFM_Customer_Alive_Others['Churn'] >0.05) & (RFM_Customer_Alive_Others['Churn'] <= 0.2)].count()/RFM_Customer_Alive_Others.count()\n",
    "Accelerated_Churn = RFM_Customer_Alive_Others[(RFM_Customer_Alive_Others['Churn'] >0.2) & (RFM_Customer_Alive_Others['Churn'] <= 0.5)].count()/RFM_Customer_Alive_Others.count()\n",
    "Churned = RFM_Customer_Alive_Others[(RFM_Customer_Alive_Others['Churn'] >0.5) & (RFM_Customer_Alive_Others['Churn'] <= 1)].count()/RFM_Customer_Alive_Others.count()\n",
    "dataframe = {'Safe':[safe.customer_id],'Waving':[Waving.customer_id], 'Accelerated_Churn': [Accelerated_Churn.customer_id], 'Churned':[Churned.customer_id]}\n",
    "\n",
    "Others_dataframe = pd.DataFrame(dataframe)\n",
    "Others_dataframe.rename(index={0: 'OTHERS'}, inplace= True)\n",
    "Others_dataframe"
   ]
  },
  {
   "cell_type": "code",
   "execution_count": 97,
   "metadata": {},
   "outputs": [
    {
     "data": {
      "text/html": [
       "<div>\n",
       "<style scoped>\n",
       "    .dataframe tbody tr th:only-of-type {\n",
       "        vertical-align: middle;\n",
       "    }\n",
       "\n",
       "    .dataframe tbody tr th {\n",
       "        vertical-align: top;\n",
       "    }\n",
       "\n",
       "    .dataframe thead th {\n",
       "        text-align: right;\n",
       "    }\n",
       "</style>\n",
       "<table border=\"1\" class=\"dataframe\">\n",
       "  <thead>\n",
       "    <tr style=\"text-align: right;\">\n",
       "      <th></th>\n",
       "      <th>Safe</th>\n",
       "      <th>Waving</th>\n",
       "      <th>Accelerated_Churn</th>\n",
       "      <th>Churned</th>\n",
       "    </tr>\n",
       "  </thead>\n",
       "  <tbody>\n",
       "    <tr>\n",
       "      <th>VIP</th>\n",
       "      <td>0.99654</td>\n",
       "      <td>0.00166</td>\n",
       "      <td>0.00075</td>\n",
       "      <td>0.00105</td>\n",
       "    </tr>\n",
       "    <tr>\n",
       "      <th>LOYAL</th>\n",
       "      <td>0.99645</td>\n",
       "      <td>0.00192</td>\n",
       "      <td>0.00072</td>\n",
       "      <td>0.00090</td>\n",
       "    </tr>\n",
       "    <tr>\n",
       "      <th>HABITUAL</th>\n",
       "      <td>0.99718</td>\n",
       "      <td>0.00192</td>\n",
       "      <td>0.00052</td>\n",
       "      <td>0.00038</td>\n",
       "    </tr>\n",
       "    <tr>\n",
       "      <th>DESIRABLES</th>\n",
       "      <td>0.93149</td>\n",
       "      <td>0.02665</td>\n",
       "      <td>0.01156</td>\n",
       "      <td>0.03029</td>\n",
       "    </tr>\n",
       "    <tr>\n",
       "      <th>OTHERS</th>\n",
       "      <td>0.87365</td>\n",
       "      <td>0.06110</td>\n",
       "      <td>0.02539</td>\n",
       "      <td>0.03986</td>\n",
       "    </tr>\n",
       "  </tbody>\n",
       "</table>\n",
       "</div>"
      ],
      "text/plain": [
       "              Safe  Waving  Accelerated_Churn  Churned\n",
       "VIP        0.99654 0.00166            0.00075  0.00105\n",
       "LOYAL      0.99645 0.00192            0.00072  0.00090\n",
       "HABITUAL   0.99718 0.00192            0.00052  0.00038\n",
       "DESIRABLES 0.93149 0.02665            0.01156  0.03029\n",
       "OTHERS     0.87365 0.06110            0.02539  0.03986"
      ]
     },
     "execution_count": 97,
     "metadata": {},
     "output_type": "execute_result"
    }
   ],
   "source": [
    "frames = [vip_dataframe, loyal_dataframe, Habitual_dataframe,Desirables_dataframe,Others_dataframe]\n",
    "result = pd.concat(frames)\n",
    "result"
   ]
  },
  {
   "cell_type": "code",
   "execution_count": 98,
   "metadata": {},
   "outputs": [
    {
     "name": "stdout",
     "output_type": "stream",
     "text": [
      "Populating the interactive namespace from numpy and matplotlib\n"
     ]
    },
    {
     "name": "stderr",
     "output_type": "stream",
     "text": [
      "C:\\Python3\\lib\\site-packages\\IPython\\core\\magics\\pylab.py:160: UserWarning: pylab import has clobbered these variables: ['test']\n",
      "`%matplotlib` prevents importing * from pylab and numpy\n",
      "  \"\\n`%matplotlib` prevents importing * from pylab and numpy\"\n"
     ]
    },
    {
     "data": {
      "text/plain": [
       "Text(0.5,1,'Probability of Churned by Loyalty Group')"
      ]
     },
     "execution_count": 98,
     "metadata": {},
     "output_type": "execute_result"
    },
    {
     "data": {
      "image/png": "[encoded data removed]",
      "text/plain": [
       "<matplotlib.figure.Figure at 0x17a83b44d30>"
      ]
     },
     "metadata": {
      "needs_background": "light"
     },
     "output_type": "display_data"
    }
   ],
   "source": [
    "%pylab inline\n",
    "import pandas as pd\n",
    "import matplotlib.pyplot as plt\n",
    "\n",
    "ax = result.plot(kind='bar', stacked=True)\n",
    "plt.ylabel('Portion of Customers by Each Segment')\n",
    "plt.title('Probability of Churned by Loyalty Group')\n"
   ]
  },
  {
   "cell_type": "markdown",
   "metadata": {},
   "source": [
    "### 2.3 Plotting the probability of churn graphs"
   ]
  },
  {
   "cell_type": "code",
   "execution_count": 13,
   "metadata": {},
   "outputs": [
    {
     "data": {
      "text/plain": [
       "<matplotlib.axes._subplots.AxesSubplot at 0x24a0136a470>"
      ]
     },
     "execution_count": 13,
     "metadata": {},
     "output_type": "execute_result"
    },
    {
     "data": {
      "image/png": "[encoded data removed]",
      "text/plain": [
       "<matplotlib.figure.Figure at 0x24a010f8860>"
      ]
     },
     "metadata": {
      "needs_background": "light"
     },
     "output_type": "display_data"
    }
   ],
   "source": [
    "from lifetimes.utils import calculate_alive_path\n",
    "def plot_history_alive(model, t, transactions, datetime_col, freq=\"D\", start_date=None, ax=None, **kwargs):\n",
    "    \"\"\"\n",
    "    Draw a graph showing the probability of being alive for a customer in time.\n",
    "    Parameters\n",
    "    ----------\n",
    "    model: lifetimes model\n",
    "        A fitted lifetimes model.\n",
    "    t: int\n",
    "        the number of time units since the birth we want to draw the p_alive\n",
    "    transactions: pandas DataFrame\n",
    "        DataFrame containing the transactions history of the customer_id\n",
    "    datetime_col: str\n",
    "        The column in the transactions that denotes the datetime the purchase was made\n",
    "    freq: str, optional\n",
    "        Default 'D' for days. Other examples= 'W' for weekly\n",
    "    start_date: datetime, optional\n",
    "        Limit xaxis to start date\n",
    "    ax: matplotlib.AxesSubplot, optional\n",
    "        Using user axes\n",
    "    kwargs\n",
    "        Passed into the matplotlib.pyplot.plot command.\n",
    "    Returns\n",
    "    -------\n",
    "    axes: matplotlib.AxesSubplot\n",
    "    \"\"\"\n",
    "    from matplotlib import pyplot as plt\n",
    "\n",
    "    if start_date is None:\n",
    "        start_date = min(transactions[datetime_col])\n",
    "\n",
    "    if ax is None:\n",
    "        ax = plt.subplot(111)\n",
    "\n",
    "    # Get purchasing history of user\n",
    "    customer_history = transactions[[datetime_col]].copy()\n",
    "    customer_history.index = pd.DatetimeIndex(customer_history[datetime_col])\n",
    "\n",
    "    # Add transactions column\n",
    "    customer_history[\"transactions\"] = 1\n",
    "    customer_history = customer_history.resample(freq).sum()\n",
    "\n",
    "    # plot alive_path\n",
    "    path = calculate_alive_path(model, transactions, datetime_col, t, freq)\n",
    "    path = 1 - path\n",
    "    path_dates = pd.date_range(start=min(transactions[datetime_col]), periods=len(path), freq=freq)\n",
    "    plt.plot(path_dates, path, \"-\", label=\"Probability of Churn\")\n",
    "\n",
    "    # plot buying dates\n",
    "    payment_dates = customer_history[customer_history[\"transactions\"] >= 1].index\n",
    "    plt.vlines(payment_dates.values, ymin=0, ymax=1, colors=\"r\", linestyles=\"dashed\", label=\"daily purchases\")\n",
    "\n",
    "    plt.ylim(0, 1.0)\n",
    "    plt.yticks(np.arange(0, 1.1, 0.1))\n",
    "    plt.xlim(start_date, path_dates[-1])\n",
    "    plt.legend(loc=3)\n",
    "    plt.ylabel(\"Probability of Churn\")\n",
    "    plt.title(\"History of Probability of Churn\")\n",
    "\n",
    "    return ax\n",
    "\n",
    "import matplotlib.pyplot as plt\n",
    "data['date'] = pd.to_datetime(data.date, format=\"%Y%m%d\")\n",
    "data_test = data[data['date'] >= '2018-03-01']\n",
    "fig = plt.figure(figsize=(12,8))\n",
    "id = 2100000002\n",
    "days_since_birth = 300\n",
    "sp_trans = data_test.loc[data_test['customer_id'] == id]\n",
    "plot_history_alive(bgf, days_since_birth, sp_trans, 'date')"
   ]
  },
  {
   "cell_type": "code",
   "execution_count": 15,
   "metadata": {},
   "outputs": [
    {
     "data": {
      "text/plain": [
       "<matplotlib.axes._subplots.AxesSubplot at 0x24a00db55c0>"
      ]
     },
     "execution_count": 15,
     "metadata": {},
     "output_type": "execute_result"
    },
    {
     "data": {
      "image/png": "[encoded data removed]",
      "text/plain": [
       "<matplotlib.figure.Figure at 0x24a0150c4a8>"
      ]
     },
     "metadata": {
      "needs_background": "light"
     },
     "output_type": "display_data"
    }
   ],
   "source": [
    "from lifetimes.utils import calculate_alive_path\n",
    "def plot_history_alive(model, t, transactions, datetime_col, freq=\"D\", start_date=None, ax=None, **kwargs):\n",
    "    \"\"\"\n",
    "    Draw a graph showing the probability of being alive for a customer in time.\n",
    "    Parameters\n",
    "    ----------\n",
    "    model: lifetimes model\n",
    "        A fitted lifetimes model.\n",
    "    t: int\n",
    "        the number of time units since the birth we want to draw the p_alive\n",
    "    transactions: pandas DataFrame\n",
    "        DataFrame containing the transactions history of the customer_id\n",
    "    datetime_col: str\n",
    "        The column in the transactions that denotes the datetime the purchase was made\n",
    "    freq: str, optional\n",
    "        Default 'D' for days. Other examples= 'W' for weekly\n",
    "    start_date: datetime, optional\n",
    "        Limit xaxis to start date\n",
    "    ax: matplotlib.AxesSubplot, optional\n",
    "        Using user axes\n",
    "    kwargs\n",
    "        Passed into the matplotlib.pyplot.plot command.\n",
    "    Returns\n",
    "    -------\n",
    "    axes: matplotlib.AxesSubplot\n",
    "    \"\"\"\n",
    "    from matplotlib import pyplot as plt\n",
    "\n",
    "    if start_date is None:\n",
    "        start_date = min(transactions[datetime_col])\n",
    "\n",
    "    if ax is None:\n",
    "        ax = plt.subplot(111)\n",
    "\n",
    "    # Get purchasing history of user\n",
    "    customer_history = transactions[[datetime_col]].copy()\n",
    "    customer_history.index = pd.DatetimeIndex(customer_history[datetime_col])\n",
    "\n",
    "    # Add transactions column\n",
    "    customer_history[\"transactions\"] = 1\n",
    "    customer_history = customer_history.resample(freq).sum()\n",
    "\n",
    "    # plot alive_path\n",
    "    path = calculate_alive_path(model, transactions, datetime_col, t, freq)\n",
    "    path = 1 - path\n",
    "    path_dates = pd.date_range(start=min(transactions[datetime_col]), periods=len(path), freq=freq)\n",
    "    plt.plot(path_dates, path, \"-\", label=\"Probability of Churn\")\n",
    "\n",
    "    # plot buying dates\n",
    "    payment_dates = customer_history[customer_history[\"transactions\"] >= 1].index\n",
    "    plt.vlines(payment_dates.values, ymin=0, ymax=1, colors=\"r\", linestyles=\"dashed\", label=\"daily purchases\")\n",
    "\n",
    "    plt.ylim(0, 1.0)\n",
    "    plt.yticks(np.arange(0, 1.1, 0.1))\n",
    "    plt.xlim(start_date, path_dates[-1])\n",
    "    plt.legend(loc=3)\n",
    "    plt.ylabel(\"Probability of Churn\")\n",
    "    plt.title(\"History of Probability of Churn\")\n",
    "\n",
    "    return ax\n",
    "\n",
    "\n",
    "import matplotlib.pyplot as plt\n",
    "data['date'] = pd.to_datetime(data.date, format=\"%Y%m%d\")\n",
    "data_test = data[data['date'] >= '2018-03-01']\n",
    "fig = plt.figure(figsize=(12,8))\n",
    "id = 2100002272\n",
    "days_since_birth = 300\n",
    "sp_trans = data_test.loc[data_test['customer_id'] == id]\n",
    "plot_history_alive(bgf, days_since_birth, sp_trans, 'date')"
   ]
  },
  {
   "cell_type": "code",
   "execution_count": 16,
   "metadata": {
    "scrolled": false
   },
   "outputs": [
    {
     "data": {
      "text/plain": [
       "<matplotlib.axes._subplots.AxesSubplot at 0x24a011c23c8>"
      ]
     },
     "execution_count": 16,
     "metadata": {},
     "output_type": "execute_result"
    },
    {
     "data": {
      "image/png": "[encoded data removed]",
      "text/plain": [
       "<matplotlib.figure.Figure at 0x24a0117ee10>"
      ]
     },
     "metadata": {
      "needs_background": "light"
     },
     "output_type": "display_data"
    }
   ],
   "source": [
    "from lifetimes.utils import calculate_alive_path\n",
    "def plot_history_alive(model, t, transactions, datetime_col, freq=\"D\", start_date=None, ax=None, **kwargs):\n",
    "    \"\"\"\n",
    "    Draw a graph showing the probability of being alive for a customer in time.\n",
    "    Parameters\n",
    "    ----------\n",
    "    model: lifetimes model\n",
    "        A fitted lifetimes model.\n",
    "    t: int\n",
    "        the number of time units since the birth we want to draw the p_alive\n",
    "    transactions: pandas DataFrame\n",
    "        DataFrame containing the transactions history of the customer_id\n",
    "    datetime_col: str\n",
    "        The column in the transactions that denotes the datetime the purchase was made\n",
    "    freq: str, optional\n",
    "        Default 'D' for days. Other examples= 'W' for weekly\n",
    "    start_date: datetime, optional\n",
    "        Limit xaxis to start date\n",
    "    ax: matplotlib.AxesSubplot, optional\n",
    "        Using user axes\n",
    "    kwargs\n",
    "        Passed into the matplotlib.pyplot.plot command.\n",
    "    Returns\n",
    "    -------\n",
    "    axes: matplotlib.AxesSubplot\n",
    "    \"\"\"\n",
    "    from matplotlib import pyplot as plt\n",
    "\n",
    "    if start_date is None:\n",
    "        start_date = min(transactions[datetime_col])\n",
    "\n",
    "    if ax is None:\n",
    "        ax = plt.subplot(111)\n",
    "\n",
    "    # Get purchasing history of user\n",
    "    customer_history = transactions[[datetime_col]].copy()\n",
    "    customer_history.index = pd.DatetimeIndex(customer_history[datetime_col])\n",
    "\n",
    "    # Add transactions column\n",
    "    customer_history[\"transactions\"] = 1\n",
    "    customer_history = customer_history.resample(freq).sum()\n",
    "\n",
    "    # plot alive_path\n",
    "    path = calculate_alive_path(model, transactions, datetime_col, t, freq)\n",
    "    path = 1 - path\n",
    "    path_dates = pd.date_range(start=min(transactions[datetime_col]), periods=len(path), freq=freq)\n",
    "    plt.plot(path_dates, path, \"-\", label=\"P_churn\")\n",
    "\n",
    "    # plot buying dates\n",
    "    payment_dates = customer_history[customer_history[\"transactions\"] >= 1].index\n",
    "    plt.vlines(payment_dates.values, ymin=0, ymax=1, colors=\"r\", linestyles=\"dashed\", label=\"purchases\")\n",
    "\n",
    "    plt.ylim(0, 1.0)\n",
    "    plt.yticks(np.arange(0, 1.1, 0.1))\n",
    "    plt.xlim(start_date, path_dates[-1])\n",
    "    plt.legend(loc=3)\n",
    "    plt.ylabel(\"P_churn\")\n",
    "    plt.title(\"History of P_churn\")\n",
    "\n",
    "    return ax\n",
    "\n",
    "\n",
    "\n",
    "import matplotlib.pyplot as plt\n",
    "data['date'] = pd.to_datetime(data.date, format=\"%Y%m%d\")\n",
    "data_test = data[(data['date'] >= '2017-10-01') &(data['date'] <= '2018-10-11')]\n",
    "fig = plt.figure(figsize=(12,8))\n",
    "id = 2101275685\n",
    "days_since_birth = 300\n",
    "sp_trans = data_test.loc[data_test['customer_id'] == id]\n",
    "plot_history_alive(bgf, days_since_birth, sp_trans, 'date')"
   ]
  },
  {
   "cell_type": "markdown",
   "metadata": {},
   "source": [
    "### 2.4 Customer Probability of Churn Path"
   ]
  },
  {
   "cell_type": "code",
   "execution_count": 20,
   "metadata": {
    "scrolled": true
   },
   "outputs": [
    {
     "data": {
      "text/html": [
       "<div>\n",
       "<style scoped>\n",
       "    .dataframe tbody tr th:only-of-type {\n",
       "        vertical-align: middle;\n",
       "    }\n",
       "\n",
       "    .dataframe tbody tr th {\n",
       "        vertical-align: top;\n",
       "    }\n",
       "\n",
       "    .dataframe thead th {\n",
       "        text-align: right;\n",
       "    }\n",
       "</style>\n",
       "<table border=\"1\" class=\"dataframe\">\n",
       "  <thead>\n",
       "    <tr style=\"text-align: right;\">\n",
       "      <th></th>\n",
       "      <th>Churn</th>\n",
       "    </tr>\n",
       "  </thead>\n",
       "  <tbody>\n",
       "    <tr>\n",
       "      <th>0</th>\n",
       "      <td>[0.0]</td>\n",
       "    </tr>\n",
       "    <tr>\n",
       "      <th>1</th>\n",
       "      <td>[0.0]</td>\n",
       "    </tr>\n",
       "    <tr>\n",
       "      <th>2</th>\n",
       "      <td>[0.0]</td>\n",
       "    </tr>\n",
       "    <tr>\n",
       "      <th>3</th>\n",
       "      <td>[0.0]</td>\n",
       "    </tr>\n",
       "    <tr>\n",
       "      <th>4</th>\n",
       "      <td>[0.03672895043030333]</td>\n",
       "    </tr>\n",
       "    <tr>\n",
       "      <th>5</th>\n",
       "      <td>[0.012058212994218498]</td>\n",
       "    </tr>\n",
       "    <tr>\n",
       "      <th>6</th>\n",
       "      <td>[0.0072131556809612585]</td>\n",
       "    </tr>\n",
       "    <tr>\n",
       "      <th>7</th>\n",
       "      <td>[0.0051456177401969505]</td>\n",
       "    </tr>\n",
       "    <tr>\n",
       "      <th>8</th>\n",
       "      <td>[0.007233104958928149]</td>\n",
       "    </tr>\n",
       "    <tr>\n",
       "      <th>9</th>\n",
       "      <td>[0.009940297894374006]</td>\n",
       "    </tr>\n",
       "  </tbody>\n",
       "</table>\n",
       "</div>"
      ],
      "text/plain": [
       "                     Churn\n",
       "0                    [0.0]\n",
       "1                    [0.0]\n",
       "2                    [0.0]\n",
       "3                    [0.0]\n",
       "4    [0.03672895043030333]\n",
       "5   [0.012058212994218498]\n",
       "6  [0.0072131556809612585]\n",
       "7  [0.0051456177401969505]\n",
       "8   [0.007233104958928149]\n",
       "9   [0.009940297894374006]"
      ]
     },
     "execution_count": 20,
     "metadata": {},
     "output_type": "execute_result"
    }
   ],
   "source": [
    "# calculate_alive_path function can calculate the probability of churn for every shopping day for one customer\n",
    "# For example the customer 2101823123, the above graph also shows this custoemr probability of churn changing\n",
    "from lifetimes.utils import calculate_alive_path\n",
    "\n",
    "data['date'] = pd.to_datetime(data.date, format=\"%Y%m%d\")\n",
    "data_test = data[data['date'] >= '2017-10-01']\n",
    "id = 2101275685\n",
    "days_since_birth = 300\n",
    "sp_trans = data_test.loc[data_test['customer_id'] == id]\n",
    "alive_path = pd.DataFrame(1-calculate_alive_path(bgf, sp_trans, 'date', days_since_birth, freq='D'))\n",
    "alive_path.columns = ['Churn']\n",
    "alive_path.head(10)"
   ]
  },
  {
   "cell_type": "markdown",
   "metadata": {},
   "source": [
    "### 2.4 Prediction Date Range"
   ]
  },
  {
   "cell_type": "code",
   "execution_count": 22,
   "metadata": {},
   "outputs": [
    {
     "data": {
      "text/html": [
       "<div>\n",
       "<style scoped>\n",
       "    .dataframe tbody tr th:only-of-type {\n",
       "        vertical-align: middle;\n",
       "    }\n",
       "\n",
       "    .dataframe tbody tr th {\n",
       "        vertical-align: top;\n",
       "    }\n",
       "\n",
       "    .dataframe thead th {\n",
       "        text-align: right;\n",
       "    }\n",
       "</style>\n",
       "<table border=\"1\" class=\"dataframe\">\n",
       "  <thead>\n",
       "    <tr style=\"text-align: right;\">\n",
       "      <th></th>\n",
       "      <th>min_date</th>\n",
       "      <th>max_date</th>\n",
       "      <th>date_range</th>\n",
       "    </tr>\n",
       "    <tr>\n",
       "      <th>customer_id</th>\n",
       "      <th></th>\n",
       "      <th></th>\n",
       "      <th></th>\n",
       "    </tr>\n",
       "  </thead>\n",
       "  <tbody>\n",
       "    <tr>\n",
       "      <th>2100000000</th>\n",
       "      <td>2018-10-03</td>\n",
       "      <td>2019-08-10</td>\n",
       "      <td>311</td>\n",
       "    </tr>\n",
       "    <tr>\n",
       "      <th>2100000001</th>\n",
       "      <td>2018-10-12</td>\n",
       "      <td>2019-09-24</td>\n",
       "      <td>347</td>\n",
       "    </tr>\n",
       "    <tr>\n",
       "      <th>2100000002</th>\n",
       "      <td>2018-10-30</td>\n",
       "      <td>2019-09-04</td>\n",
       "      <td>309</td>\n",
       "    </tr>\n",
       "    <tr>\n",
       "      <th>2100000003</th>\n",
       "      <td>2018-10-01</td>\n",
       "      <td>2019-09-23</td>\n",
       "      <td>357</td>\n",
       "    </tr>\n",
       "    <tr>\n",
       "      <th>2100000004</th>\n",
       "      <td>2018-10-01</td>\n",
       "      <td>2019-09-30</td>\n",
       "      <td>364</td>\n",
       "    </tr>\n",
       "  </tbody>\n",
       "</table>\n",
       "</div>"
      ],
      "text/plain": [
       "              min_date   max_date  date_range\n",
       "customer_id                                  \n",
       "2100000000  2018-10-03 2019-08-10         311\n",
       "2100000001  2018-10-12 2019-09-24         347\n",
       "2100000002  2018-10-30 2019-09-04         309\n",
       "2100000003  2018-10-01 2019-09-23         357\n",
       "2100000004  2018-10-01 2019-09-30         364"
      ]
     },
     "execution_count": 22,
     "metadata": {},
     "output_type": "execute_result"
    }
   ],
   "source": [
    "# Importing the data\n",
    "chunksize = 100000\n",
    "churn = pd.read_csv('data_20171001_20190930.csv', chunksize=100000, iterator=True)\n",
    "data = pd.concat(churn, ignore_index=True)\n",
    "\n",
    "# Manipulate the day range\n",
    "date_range = data[(data['date'] >= 20181001) &(data['date'] <= 20190930)]\n",
    "date_range['date'] = pd.to_datetime(date_range.date, format=\"%Y%m%d\")\n",
    "\n",
    "min=pd.DataFrame(date_range.groupby('customer_id')['date'].min())\n",
    "max=pd.DataFrame(date_range.groupby('customer_id')['date'].max())\n",
    "min_max = pd.concat([min,max], axis=1)\n",
    "min_max['Date_Range'] = min_max.iloc[:,1] - min_max.iloc[:,0]\n",
    "\n",
    "min_max.columns = ['min_date','max_date','date_range']\n",
    "min_max['date_range'] = min_max['date_range'].dt.days\n",
    "min_max.head()"
   ]
  },
  {
   "cell_type": "code",
   "execution_count": 23,
   "metadata": {},
   "outputs": [
    {
     "data": {
      "image/png": "[encoded data removed]",
      "text/plain": [
       "<matplotlib.figure.Figure at 0x24a01378e10>"
      ]
     },
     "metadata": {
      "needs_background": "light"
     },
     "output_type": "display_data"
    }
   ],
   "source": [
    "import matplotlib.pyplot as plt\n",
    "ax = min_max['date_range'].hist()\n",
    "plt.ylabel('Number of customers')\n",
    "plt.xlabel('Day Range')\n",
    "plt.title('Day Range between first purchased day and last purchassed day for holdout period')\n",
    "#ax.legend().set_visible(False)\n",
    "plt.show()"
   ]
  },
  {
   "cell_type": "markdown",
   "metadata": {},
   "source": [
    "# 3. Predicting the customer average daily spend"
   ]
  },
  {
   "cell_type": "markdown",
   "metadata": {},
   "source": [
    "### 3.1 Delte Outliers for Training Dataset"
   ]
  },
  {
   "cell_type": "code",
   "execution_count": 27,
   "metadata": {
    "scrolled": true
   },
   "outputs": [
    {
     "data": {
      "text/plain": [
       "0.10      2.0\n",
       "0.95    141.0\n",
       "Name: frequency, dtype: float64"
      ]
     },
     "execution_count": 27,
     "metadata": {},
     "output_type": "execute_result"
    }
   ],
   "source": [
    "# Importing data\n",
    "# Import the Training and test dataset\n",
    "training = pd.read_csv(\"training_day.csv\",index_col='customer_id')\n",
    "test = pd.read_csv(\"test_day.csv\",index_col='customer_id')\n",
    "\n",
    "#Delete the outlier\n",
    "lower_bound = 0.1\n",
    "upper_bound = 0.95\n",
    "training.frequency.quantile([lower_bound,upper_bound])"
   ]
  },
  {
   "cell_type": "code",
   "execution_count": 26,
   "metadata": {},
   "outputs": [
    {
     "data": {
      "text/plain": [
       "Text(0.5,1,'Customer Frequency Distribution')"
      ]
     },
     "execution_count": 26,
     "metadata": {},
     "output_type": "execute_result"
    },
    {
     "data": {
      "image/png": "[encoded data removed]",
      "text/plain": [
       "<matplotlib.figure.Figure at 0x24a011681d0>"
      ]
     },
     "metadata": {
      "needs_background": "light"
     },
     "output_type": "display_data"
    }
   ],
   "source": [
    "# Looking the rfm frequency distribution\n",
    "%matplotlib inline\n",
    "import matplotlib.pyplot as plt\n",
    "training['frequency'].plot(kind='hist', bins=50)\n",
    "plt.ylabel('Number of Customers')\n",
    "plt.xlabel('Frequency')\n",
    "plt.title('Customer Frequency Distribution')"
   ]
  },
  {
   "cell_type": "code",
   "execution_count": 29,
   "metadata": {},
   "outputs": [
    {
     "data": {
      "text/plain": [
       "Text(0.5,1,'Customer Monetary value Distribution')"
      ]
     },
     "execution_count": 29,
     "metadata": {},
     "output_type": "execute_result"
    },
    {
     "data": {
      "image/png": "[encoded data removed]",
      "text/plain": [
       "<matplotlib.figure.Figure at 0x24a0232a7b8>"
      ]
     },
     "metadata": {
      "needs_background": "light"
     },
     "output_type": "display_data"
    }
   ],
   "source": [
    "# Looking the rfm frequency distribution\n",
    "import matplotlib.pyplot as plt\n",
    "plt.xlim([0,1000])\n",
    "training['monetary_value'].plot(kind='hist', bins=1000)\n",
    "plt.ylabel('Number of Customers')\n",
    "plt.xlabel('Monetary value')\n",
    "plt.title('Customer Monetary value Distribution')"
   ]
  },
  {
   "cell_type": "code",
   "execution_count": 30,
   "metadata": {},
   "outputs": [
    {
     "data": {
      "text/plain": [
       "<matplotlib.axes._subplots.AxesSubplot at 0x24a03338080>"
      ]
     },
     "execution_count": 30,
     "metadata": {},
     "output_type": "execute_result"
    },
    {
     "data": {
      "image/png": "[encoded data removed]",
      "text/plain": [
       "<matplotlib.figure.Figure at 0x24a0232a550>"
      ]
     },
     "metadata": {
      "needs_background": "light"
     },
     "output_type": "display_data"
    }
   ],
   "source": [
    "# Looking more detail about the monetary value\n",
    "import matplotlib.pyplot as plt\n",
    "plt.xlim([250,1000])\n",
    "plt.ylim([0,2100])\n",
    "training['monetary_value'].plot(kind='hist', bins=1000)"
   ]
  },
  {
   "cell_type": "code",
   "execution_count": 31,
   "metadata": {},
   "outputs": [],
   "source": [
    "# delete the outlier\n",
    "training = training.loc[(training['frequency'] > 0) & (training['frequency'] < 250)& (training['monetary_value'] <= 400)]"
   ]
  },
  {
   "cell_type": "code",
   "execution_count": 32,
   "metadata": {
    "scrolled": false
   },
   "outputs": [
    {
     "data": {
      "text/html": [
       "<div>\n",
       "<style scoped>\n",
       "    .dataframe tbody tr th:only-of-type {\n",
       "        vertical-align: middle;\n",
       "    }\n",
       "\n",
       "    .dataframe tbody tr th {\n",
       "        vertical-align: top;\n",
       "    }\n",
       "\n",
       "    .dataframe thead th {\n",
       "        text-align: right;\n",
       "    }\n",
       "</style>\n",
       "<table border=\"1\" class=\"dataframe\">\n",
       "  <thead>\n",
       "    <tr style=\"text-align: right;\">\n",
       "      <th></th>\n",
       "      <th>frequency</th>\n",
       "      <th>monetary_value</th>\n",
       "    </tr>\n",
       "  </thead>\n",
       "  <tbody>\n",
       "    <tr>\n",
       "      <th>frequency</th>\n",
       "      <td>1.000000</td>\n",
       "      <td>0.014694</td>\n",
       "    </tr>\n",
       "    <tr>\n",
       "      <th>monetary_value</th>\n",
       "      <td>0.014694</td>\n",
       "      <td>1.000000</td>\n",
       "    </tr>\n",
       "  </tbody>\n",
       "</table>\n",
       "</div>"
      ],
      "text/plain": [
       "                frequency  monetary_value\n",
       "frequency        1.000000        0.014694\n",
       "monetary_value   0.014694        1.000000"
      ]
     },
     "execution_count": 32,
     "metadata": {},
     "output_type": "execute_result"
    }
   ],
   "source": [
    "training[['frequency', 'monetary_value']].corr()"
   ]
  },
  {
   "cell_type": "code",
   "execution_count": 31,
   "metadata": {},
   "outputs": [
    {
     "data": {
      "text/html": [
       "<div>\n",
       "<style scoped>\n",
       "    .dataframe tbody tr th:only-of-type {\n",
       "        vertical-align: middle;\n",
       "    }\n",
       "\n",
       "    .dataframe tbody tr th {\n",
       "        vertical-align: top;\n",
       "    }\n",
       "\n",
       "    .dataframe thead th {\n",
       "        text-align: right;\n",
       "    }\n",
       "</style>\n",
       "<table border=\"1\" class=\"dataframe\">\n",
       "  <thead>\n",
       "    <tr style=\"text-align: right;\">\n",
       "      <th></th>\n",
       "      <th>Repeated Daily Purchase</th>\n",
       "      <th>Average Daily Spend</th>\n",
       "    </tr>\n",
       "  </thead>\n",
       "  <tbody>\n",
       "    <tr>\n",
       "      <th>Repeated Daily Purchase</th>\n",
       "      <td>1.000000</td>\n",
       "      <td>1.000000</td>\n",
       "    </tr>\n",
       "    <tr>\n",
       "      <th>Average Daily Spend</th>\n",
       "      <td>0.014694</td>\n",
       "      <td>0.014694</td>\n",
       "    </tr>\n",
       "  </tbody>\n",
       "</table>\n",
       "</div>"
      ],
      "text/plain": [
       "                         Repeated Daily Purchase  Average Daily Spend\n",
       "Repeated Daily Purchase                 1.000000             1.000000\n",
       "Average Daily Spend                     0.014694             0.014694"
      ]
     },
     "execution_count": 31,
     "metadata": {},
     "output_type": "execute_result"
    }
   ],
   "source": [
    "corr = {'Repeated Daily Purchase':[1.000000,0.014694], 'Average Daily Spend': [1.000000,0.014694]}\n",
    "corr = pd.DataFrame(corr)\n",
    "corr.rename(index = {0:'Repeated Daily Purchase',1:'Average Daily Spend'})"
   ]
  },
  {
   "cell_type": "markdown",
   "metadata": {},
   "source": [
    "### 3.2 Building Model"
   ]
  },
  {
   "cell_type": "code",
   "execution_count": 33,
   "metadata": {},
   "outputs": [
    {
     "data": {
      "text/html": [
       "<div>\n",
       "<style scoped>\n",
       "    .dataframe tbody tr th:only-of-type {\n",
       "        vertical-align: middle;\n",
       "    }\n",
       "\n",
       "    .dataframe tbody tr th {\n",
       "        vertical-align: top;\n",
       "    }\n",
       "\n",
       "    .dataframe thead th {\n",
       "        text-align: right;\n",
       "    }\n",
       "</style>\n",
       "<table border=\"1\" class=\"dataframe\">\n",
       "  <thead>\n",
       "    <tr style=\"text-align: right;\">\n",
       "      <th></th>\n",
       "      <th>coef</th>\n",
       "      <th>se(coef)</th>\n",
       "      <th>lower 95% bound</th>\n",
       "      <th>upper 95% bound</th>\n",
       "    </tr>\n",
       "  </thead>\n",
       "  <tbody>\n",
       "    <tr>\n",
       "      <th>r</th>\n",
       "      <td>0.927490</td>\n",
       "      <td>0.000908</td>\n",
       "      <td>0.925710</td>\n",
       "      <td>0.929271</td>\n",
       "    </tr>\n",
       "    <tr>\n",
       "      <th>alpha</th>\n",
       "      <td>6.571873</td>\n",
       "      <td>0.008645</td>\n",
       "      <td>6.554929</td>\n",
       "      <td>6.588817</td>\n",
       "    </tr>\n",
       "    <tr>\n",
       "      <th>a</th>\n",
       "      <td>0.016058</td>\n",
       "      <td>0.000059</td>\n",
       "      <td>0.015942</td>\n",
       "      <td>0.016174</td>\n",
       "    </tr>\n",
       "    <tr>\n",
       "      <th>b</th>\n",
       "      <td>0.392133</td>\n",
       "      <td>0.001309</td>\n",
       "      <td>0.389567</td>\n",
       "      <td>0.394699</td>\n",
       "    </tr>\n",
       "  </tbody>\n",
       "</table>\n",
       "</div>"
      ],
      "text/plain": [
       "           coef  se(coef)  lower 95% bound  upper 95% bound\n",
       "r      0.927490  0.000908         0.925710         0.929271\n",
       "alpha  6.571873  0.008645         6.554929         6.588817\n",
       "a      0.016058  0.000059         0.015942         0.016174\n",
       "b      0.392133  0.001309         0.389567         0.394699"
      ]
     },
     "execution_count": 33,
     "metadata": {},
     "output_type": "execute_result"
    }
   ],
   "source": [
    "# refit the BG model to the summary_with_money_value dataset\n",
    "from lifetimes import BetaGeoFitter\n",
    "bgf = BetaGeoFitter(penalizer_coef=0.08)\n",
    "bgf.fit(training['frequency'], training['recency'], training['T'])\n",
    "bgf.summary"
   ]
  },
  {
   "cell_type": "code",
   "execution_count": 35,
   "metadata": {},
   "outputs": [
    {
     "name": "stdout",
     "output_type": "stream",
     "text": [
      "       coef  se(coef)  lower 95% bound  upper 95% bound\n",
      "p  3.906088  0.004008         3.898232         3.913945\n",
      "q  0.714975  0.000718         0.713568         0.716382\n",
      "v  3.873013  0.004034         3.865106         3.880919\n"
     ]
    }
   ],
   "source": [
    "# Build the model\n",
    "training = training[training['frequency']>0]\n",
    "training = training[training['monetary_value']>0]\n",
    "\n",
    "from lifetimes import GammaGammaFitter\n",
    "ggf = GammaGammaFitter(penalizer_coef = 0.01)\n",
    "ggf.fit(training['frequency'],\n",
    "        training['monetary_value'])\n",
    "print(ggf.summary)"
   ]
  },
  {
   "cell_type": "code",
   "execution_count": 36,
   "metadata": {},
   "outputs": [
    {
     "name": "stdout",
     "output_type": "stream",
     "text": [
      "Expected conditional average profit: 63.31318311836954, Average profit: 62.382159180408294\n"
     ]
    }
   ],
   "source": [
    "print(\"Expected conditional average profit: %s, Average profit: %s\" % (\n",
    "    ggf.conditional_expected_average_profit(\n",
    "        training['frequency'],\n",
    "        training['monetary_value']\n",
    "    ).mean(),\n",
    "    training[training['frequency']>0]['monetary_value'].mean()\n",
    "))"
   ]
  },
  {
   "cell_type": "code",
   "execution_count": 37,
   "metadata": {},
   "outputs": [
    {
     "data": {
      "text/html": [
       "<div>\n",
       "<style scoped>\n",
       "    .dataframe tbody tr th:only-of-type {\n",
       "        vertical-align: middle;\n",
       "    }\n",
       "\n",
       "    .dataframe tbody tr th {\n",
       "        vertical-align: top;\n",
       "    }\n",
       "\n",
       "    .dataframe thead th {\n",
       "        text-align: right;\n",
       "    }\n",
       "</style>\n",
       "<table border=\"1\" class=\"dataframe\">\n",
       "  <thead>\n",
       "    <tr style=\"text-align: right;\">\n",
       "      <th></th>\n",
       "      <th>Actual</th>\n",
       "      <th>Predict</th>\n",
       "      <th>difference</th>\n",
       "    </tr>\n",
       "    <tr>\n",
       "      <th>customer_id</th>\n",
       "      <th></th>\n",
       "      <th></th>\n",
       "      <th></th>\n",
       "    </tr>\n",
       "  </thead>\n",
       "  <tbody>\n",
       "    <tr>\n",
       "      <th>2100000000</th>\n",
       "      <td>95.270421</td>\n",
       "      <td>95.384454</td>\n",
       "      <td>0.119694</td>\n",
       "    </tr>\n",
       "    <tr>\n",
       "      <th>2100000001</th>\n",
       "      <td>37.431458</td>\n",
       "      <td>37.500306</td>\n",
       "      <td>0.183930</td>\n",
       "    </tr>\n",
       "    <tr>\n",
       "      <th>2100000002</th>\n",
       "      <td>13.785000</td>\n",
       "      <td>16.316822</td>\n",
       "      <td>18.366496</td>\n",
       "    </tr>\n",
       "    <tr>\n",
       "      <th>2100000003</th>\n",
       "      <td>64.735357</td>\n",
       "      <td>64.796794</td>\n",
       "      <td>0.094905</td>\n",
       "    </tr>\n",
       "    <tr>\n",
       "      <th>2100000004</th>\n",
       "      <td>20.968859</td>\n",
       "      <td>20.998235</td>\n",
       "      <td>0.140095</td>\n",
       "    </tr>\n",
       "  </tbody>\n",
       "</table>\n",
       "</div>"
      ],
      "text/plain": [
       "                Actual    Predict  difference\n",
       "customer_id                                  \n",
       "2100000000   95.270421  95.384454    0.119694\n",
       "2100000001   37.431458  37.500306    0.183930\n",
       "2100000002   13.785000  16.316822   18.366496\n",
       "2100000003   64.735357  64.796794    0.094905\n",
       "2100000004   20.968859  20.998235    0.140095"
      ]
     },
     "execution_count": 37,
     "metadata": {},
     "output_type": "execute_result"
    }
   ],
   "source": [
    "training_predict = ggf.conditional_expected_average_profit(\n",
    "        training['frequency'],\n",
    "        training['monetary_value'])\n",
    "\n",
    "training_actual = training['monetary_value']\n",
    "training_predict_actual = pd.concat([training_actual,training_predict],axis =1)\n",
    "# Rename the column name\n",
    "training_predict_actual.columns = ['Actual', 'Predict']\n",
    "training_predict_actual['difference'] = (training_predict_actual['Predict']-training_predict_actual['Actual'])/training_predict_actual['Actual']*100\n",
    "training_predict_actual.head()"
   ]
  },
  {
   "cell_type": "code",
   "execution_count": 38,
   "metadata": {
    "scrolled": false
   },
   "outputs": [
    {
     "data": {
      "image/png": "[encoded data removed]",
      "text/plain": [
       "<matplotlib.figure.Figure at 0x24a01155320>"
      ]
     },
     "metadata": {
      "needs_background": "light"
     },
     "output_type": "display_data"
    }
   ],
   "source": [
    "#All cusotmer \n",
    "import matplotlib.pyplot as plt\n",
    "%matplotlib inline\n",
    "plt.xlim([0,630])\n",
    "plt.ylim([0,630])\n",
    "x = training_predict_actual['Actual'] \n",
    "y = training_predict_actual['Predict']\n",
    "\n",
    "plt.plot(x,y,'r.') # x vs y\n",
    "plt.plot(x,x,'k-') # identity line\n",
    "\n",
    "plt.ylabel('Prediction Monetary Value')\n",
    "plt.xlabel('Actual Monetary Value')\n",
    "plt.title('Expected conditional average spend for Calibration Period')\n",
    "\n",
    "plt.scatter(x, y, alpha=0.5)\n",
    "plt.show()"
   ]
  },
  {
   "cell_type": "code",
   "execution_count": 39,
   "metadata": {},
   "outputs": [
    {
     "name": "stdout",
     "output_type": "stream",
     "text": [
      "Total Amount Prediction: 90936978.16564664\n",
      "Total Amount holdout: 89599744.75945716\n",
      "Difference: 1337233.4061894864\n",
      "Prediction Error : 0.014924522494784705\n"
     ]
    }
   ],
   "source": [
    "prediction_training = training_predict_actual['Predict'].sum()\n",
    "actual_training = training_predict_actual['Actual'].sum()\n",
    "print(\"Total Amount Prediction:\", prediction_training)\n",
    "print(\"Total Amount holdout:\", actual_training)\n",
    "print(\"Difference:\", prediction_training - actual_training)\n",
    "print(\"Prediction Error :\",(prediction_training-actual_training)/actual_training)"
   ]
  },
  {
   "cell_type": "markdown",
   "metadata": {},
   "source": [
    "### 3.3 Delte Outliers for Test Dataset"
   ]
  },
  {
   "cell_type": "code",
   "execution_count": 40,
   "metadata": {},
   "outputs": [
    {
     "data": {
      "text/plain": [
       "0.10      1.0\n",
       "0.95    140.0\n",
       "Name: frequency, dtype: float64"
      ]
     },
     "execution_count": 40,
     "metadata": {},
     "output_type": "execute_result"
    }
   ],
   "source": [
    "#Delete the outlier\n",
    "lower_bound = 0.1\n",
    "upper_bound = 0.95\n",
    "test.frequency.quantile([lower_bound,upper_bound])"
   ]
  },
  {
   "cell_type": "code",
   "execution_count": 41,
   "metadata": {},
   "outputs": [
    {
     "data": {
      "text/plain": [
       "<matplotlib.axes._subplots.AxesSubplot at 0x24a03cbada0>"
      ]
     },
     "execution_count": 41,
     "metadata": {},
     "output_type": "execute_result"
    },
    {
     "data": {
      "image/png": "[encoded data removed]",
      "text/plain": [
       "<matplotlib.figure.Figure at 0x24a00a2eeb8>"
      ]
     },
     "metadata": {
      "needs_background": "light"
     },
     "output_type": "display_data"
    }
   ],
   "source": [
    "# Looking the rfm frequency distribution\n",
    "%matplotlib inline\n",
    "test['frequency'].plot(kind='hist', bins=50)"
   ]
  },
  {
   "cell_type": "code",
   "execution_count": 42,
   "metadata": {},
   "outputs": [
    {
     "data": {
      "text/plain": [
       "<matplotlib.axes._subplots.AxesSubplot at 0x24a01a00470>"
      ]
     },
     "execution_count": 42,
     "metadata": {},
     "output_type": "execute_result"
    },
    {
     "data": {
      "image/png": "[encoded data removed]",
      "text/plain": [
       "<matplotlib.figure.Figure at 0x24a03cb4470>"
      ]
     },
     "metadata": {
      "needs_background": "light"
     },
     "output_type": "display_data"
    }
   ],
   "source": [
    "# Looking the rfm frequency distribution\n",
    "import matplotlib.pyplot as plt\n",
    "plt.xlim([0,1000])\n",
    "test['monetary_value'].plot(kind='hist', bins=1000)"
   ]
  },
  {
   "cell_type": "code",
   "execution_count": 43,
   "metadata": {},
   "outputs": [
    {
     "data": {
      "text/plain": [
       "<matplotlib.axes._subplots.AxesSubplot at 0x24a03df5400>"
      ]
     },
     "execution_count": 43,
     "metadata": {},
     "output_type": "execute_result"
    },
    {
     "data": {
      "image/png": "[encoded data removed]",
      "text/plain": [
       "<matplotlib.figure.Figure at 0x24a03cbc0f0>"
      ]
     },
     "metadata": {
      "needs_background": "light"
     },
     "output_type": "display_data"
    }
   ],
   "source": [
    "# More detail about monetary value\n",
    "import matplotlib.pyplot as plt\n",
    "plt.xlim([250,1000])\n",
    "plt.ylim([0,2100])\n",
    "test['monetary_value'].plot(kind='hist', bins=1000)"
   ]
  },
  {
   "cell_type": "code",
   "execution_count": 44,
   "metadata": {},
   "outputs": [],
   "source": [
    "# Not delete the outlier and have a try\n",
    "test = test.loc[(test['frequency'] > 0) & (test['frequency'] < 250)& (test['monetary_value'] <= 500)]"
   ]
  },
  {
   "cell_type": "code",
   "execution_count": 45,
   "metadata": {},
   "outputs": [
    {
     "name": "stdout",
     "output_type": "stream",
     "text": [
      "Expected conditional average profit: 65.13645509748969, Average profit: 64.13624084849846\n"
     ]
    }
   ],
   "source": [
    "test = test.loc[(test['frequency'] > 0) & (test['monetary_value'] > 0)]\n",
    "\n",
    "print(\"Expected conditional average profit: %s, Average profit: %s\" % (\n",
    "    ggf.conditional_expected_average_profit(\n",
    "        test['frequency'],\n",
    "        test['monetary_value']\n",
    "    ).mean(),\n",
    "    test[test['frequency']>0]['monetary_value'].mean()\n",
    "))"
   ]
  },
  {
   "cell_type": "code",
   "execution_count": 46,
   "metadata": {},
   "outputs": [
    {
     "data": {
      "text/html": [
       "<div>\n",
       "<style scoped>\n",
       "    .dataframe tbody tr th:only-of-type {\n",
       "        vertical-align: middle;\n",
       "    }\n",
       "\n",
       "    .dataframe tbody tr th {\n",
       "        vertical-align: top;\n",
       "    }\n",
       "\n",
       "    .dataframe thead th {\n",
       "        text-align: right;\n",
       "    }\n",
       "</style>\n",
       "<table border=\"1\" class=\"dataframe\">\n",
       "  <thead>\n",
       "    <tr style=\"text-align: right;\">\n",
       "      <th></th>\n",
       "      <th>Actual</th>\n",
       "      <th>Predict</th>\n",
       "      <th>difference</th>\n",
       "    </tr>\n",
       "    <tr>\n",
       "      <th>customer_id</th>\n",
       "      <th></th>\n",
       "      <th></th>\n",
       "      <th></th>\n",
       "    </tr>\n",
       "  </thead>\n",
       "  <tbody>\n",
       "    <tr>\n",
       "      <th>2100000000</th>\n",
       "      <td>134.787838</td>\n",
       "      <td>135.159068</td>\n",
       "      <td>0.002754</td>\n",
       "    </tr>\n",
       "    <tr>\n",
       "      <th>2100000001</th>\n",
       "      <td>31.061558</td>\n",
       "      <td>31.141369</td>\n",
       "      <td>0.002569</td>\n",
       "    </tr>\n",
       "    <tr>\n",
       "      <th>2100000002</th>\n",
       "      <td>29.300000</td>\n",
       "      <td>30.830678</td>\n",
       "      <td>0.052242</td>\n",
       "    </tr>\n",
       "    <tr>\n",
       "      <th>2100000003</th>\n",
       "      <td>59.866783</td>\n",
       "      <td>59.924445</td>\n",
       "      <td>0.000963</td>\n",
       "    </tr>\n",
       "    <tr>\n",
       "      <th>2100000004</th>\n",
       "      <td>19.970553</td>\n",
       "      <td>19.997348</td>\n",
       "      <td>0.001342</td>\n",
       "    </tr>\n",
       "  </tbody>\n",
       "</table>\n",
       "</div>"
      ],
      "text/plain": [
       "                 Actual     Predict  difference\n",
       "customer_id                                    \n",
       "2100000000   134.787838  135.159068    0.002754\n",
       "2100000001    31.061558   31.141369    0.002569\n",
       "2100000002    29.300000   30.830678    0.052242\n",
       "2100000003    59.866783   59.924445    0.000963\n",
       "2100000004    19.970553   19.997348    0.001342"
      ]
     },
     "execution_count": 46,
     "metadata": {},
     "output_type": "execute_result"
    }
   ],
   "source": [
    "test_predict = ggf.conditional_expected_average_profit(\n",
    "        test['frequency'],\n",
    "        test['monetary_value'])\n",
    "test_actual = test['monetary_value']\n",
    "test_predict_actual = pd.concat([test_actual,test_predict],axis =1)\n",
    "# Rename the column name\n",
    "test_predict_actual.columns = ['Actual', 'Predict']\n",
    "test_predict_actual['difference'] = (test_predict_actual['Predict']-test_predict_actual['Actual'])/test_predict_actual['Actual']\n",
    "test_predict_actual.head()"
   ]
  },
  {
   "cell_type": "code",
   "execution_count": 47,
   "metadata": {},
   "outputs": [
    {
     "data": {
      "image/png": "[encoded data removed]",
      "text/plain": [
       "<matplotlib.figure.Figure at 0x24a03cab828>"
      ]
     },
     "metadata": {
      "needs_background": "light"
     },
     "output_type": "display_data"
    }
   ],
   "source": [
    "#All cusotmer \n",
    "import matplotlib.pyplot as plt\n",
    "%matplotlib inline\n",
    "plt.xlim([0,620])\n",
    "plt.ylim([0,620])\n",
    "x = test_predict_actual['Actual'] \n",
    "y = test_predict_actual['Predict']\n",
    "\n",
    "plt.plot(x,y,'r.') # x vs y\n",
    "plt.plot(x,x,'k-') # identity line\n",
    "\n",
    "plt.ylabel('Prediction Monetary Value')\n",
    "plt.xlabel('Actual Monetary Value')\n",
    "plt.title('Expected conditional average spend for Holdout Period')\n",
    "\n",
    "plt.scatter(x, y, alpha=0.5)\n",
    "plt.show()"
   ]
  },
  {
   "cell_type": "code",
   "execution_count": 48,
   "metadata": {},
   "outputs": [
    {
     "name": "stdout",
     "output_type": "stream",
     "text": [
      "Total Amount Prediction: 91667184.6232482\n",
      "Total Amount holdout: 90259573.10850038\n",
      "Difference: 1407611.5147478282\n",
      "Prediction Error : 0.01559514925974388\n"
     ]
    }
   ],
   "source": [
    "prediction_test = test_predict_actual['Predict'].sum()\n",
    "actual_test = test_predict_actual['Actual'].sum()\n",
    "print(\"Total Amount Prediction:\", prediction_test)\n",
    "print(\"Total Amount holdout:\", actual_test)\n",
    "print(\"Difference:\", prediction_test - actual_test)\n",
    "print(\"Prediction Error :\",(prediction_test-actual_test)/actual_test)"
   ]
  },
  {
   "cell_type": "markdown",
   "metadata": {},
   "source": [
    "# 4. Predicting the customer total monetary value in next 1 year"
   ]
  },
  {
   "cell_type": "markdown",
   "metadata": {},
   "source": [
    "### 4.1 Model"
   ]
  },
  {
   "cell_type": "code",
   "execution_count": 121,
   "metadata": {},
   "outputs": [],
   "source": [
    "# Reading the dataset\n",
    "training = pd.read_csv(\"training_day.csv\",index_col='customer_id')\n",
    "test = pd.read_csv(\"test_day.csv\",index_col='customer_id')\n",
    "\n",
    "\n",
    "# refit the BG model to the summary_with_money_value dataset\n",
    "from lifetimes import BetaGeoFitter\n",
    "bgf = BetaGeoFitter(penalizer_coef=0.05)\n",
    "training_model1 = training.loc[(training['frequency'] > 0) & (training['frequency'] < 250)]\n",
    "bgf.fit(training_model1['frequency'], training_model1['recency'], training_model1['T'])\n",
    "\n",
    "training_model2 = training.loc[(training['frequency'] > 0) & (training['frequency'] < 250)& (training['monetary_value'] <= 400)]\n",
    "from lifetimes import GammaGammaFitter\n",
    "ggf = GammaGammaFitter(penalizer_coef = 0.05)\n",
    "ggf.fit(training_model2['frequency'],\n",
    "        training_model2['monetary_value'])\n",
    "\n",
    "training = training[(training['frequency'] > 0) & (training['monetary_value'] > 0)]\n",
    "customer_lifetime_value = ggf.customer_lifetime_value(\n",
    "    bgf, #the model to use to predict the number of future transactions\n",
    "    training['frequency'],\n",
    "    training['recency'],\n",
    "    training['T'],\n",
    "    training['monetary_value'],\n",
    "    time=12, # months\n",
    "    discount_rate=0, # Yearly discount rate ~6.0%  p.a  = 0.5% per month  \n",
    "    freq = 'D'\n",
    ")"
   ]
  },
  {
   "cell_type": "markdown",
   "metadata": {},
   "source": [
    "### 4.2 Evaluation"
   ]
  },
  {
   "cell_type": "code",
   "execution_count": 122,
   "metadata": {
    "scrolled": true
   },
   "outputs": [
    {
     "name": "stdout",
     "output_type": "stream",
     "text": [
      "Total Amount Prediction: 4249096698.3389893\n",
      "Total Amount holdout: 4164719907.3399987\n",
      "Difference: 84376790.99899054\n",
      "Prediction Error : 0.020259895713582787\n"
     ]
    }
   ],
   "source": [
    "data_20181001_20190930 = data[(data['date'] >=20181001) & (data['date'] <=20190930)]\n",
    "\n",
    "Monetary_Value_Predict_Actual = pd.concat([customer_lifetime_value, data_20181001_20190930.groupby(['customer_id']).sum()['amount']], axis = 1)\n",
    "Monetary_Value_Predict_Actual.columns = ['Predict', 'Actual']\n",
    "Monetary_Value_Predict_Actual = Monetary_Value_Predict_Actual.dropna()\n",
    "prediction = Monetary_Value_Predict_Actual['Predict'].sum()\n",
    "actual = Monetary_Value_Predict_Actual['Actual'].sum()\n",
    "print(\"Total Amount Prediction:\", prediction)\n",
    "print(\"Total Amount holdout:\", actual)\n",
    "print(\"Difference:\", prediction - actual)\n",
    "print(\"Prediction Error :\",(prediction-actual)/actual)"
   ]
  },
  {
   "cell_type": "code",
   "execution_count": 123,
   "metadata": {},
   "outputs": [
    {
     "data": {
      "image/png": "[encoded data removed]",
      "text/plain": [
       "<matplotlib.figure.Figure at 0x1ccb25e93c8>"
      ]
     },
     "metadata": {
      "needs_background": "light"
     },
     "output_type": "display_data"
    }
   ],
   "source": [
    "#All cusotmer \n",
    "import matplotlib.pyplot as plt\n",
    "import matplotlib as mpl\n",
    "%matplotlib inline\n",
    "\n",
    "\n",
    "ax = Monetary_Value_Predict_Actual.plot(kind='scatter', x='Actual', y='Predict')\n",
    "\n",
    "formatter = ticker.FormatStrFormatter('$%0.1f') #declaring the formatter with the $ sign and y_values with 1 decimalplace\n",
    "ax.yaxis.set_major_formatter(formatter)\n",
    "ax.xaxis.set_major_formatter(formatter)\n",
    "\n",
    "x = Monetary_Value_Predict_Actual['Actual'] \n",
    "y = Monetary_Value_Predict_Actual['Predict']\n",
    "plt.plot(x,y,'r.') # x vs y\n",
    "plt.plot(x,x,'k-') # identity line\n",
    "\n",
    "plt.xlim([0,100000])\n",
    "plt.ylim([0,100000])\n",
    "\n",
    "plt.ylabel('Prediction Monetary Value')\n",
    "plt.xlabel('Actual Monetary Value')\n",
    "plt.title('Actual Montary Value VS Prediction Monetary Value')\n",
    "\n",
    "mpl.rcParams['agg.path.chunksize'] = 100000\n",
    "plt.scatter(x, y, alpha=0.5)\n",
    "plt.show()"
   ]
  },
  {
   "cell_type": "code",
   "execution_count": 56,
   "metadata": {},
   "outputs": [
    {
     "data": {
      "image/png": "[encoded data removed]",
      "text/plain": [
       "<matplotlib.figure.Figure at 0x24a0775b8d0>"
      ]
     },
     "metadata": {
      "needs_background": "light"
     },
     "output_type": "display_data"
    }
   ],
   "source": [
    "# Get the difference for every customer\n",
    "Monetary_Value_Predict_Actual['Difference'] = round((Monetary_Value_Predict_Actual['Predict'] - Monetary_Value_Predict_Actual['Actual'])/Monetary_Value_Predict_Actual['Actual'],0)\n",
    "difference = pd.DataFrame(Monetary_Value_Predict_Actual[\"Difference\"].value_counts())\n",
    "difference = difference.sort_index(ascending=True)\n",
    "\n",
    "difference_ten = difference.loc[-1:10]\n",
    "difference_ten = difference_ten.append({'Difference' : 28832 } , ignore_index=True)\n",
    "difference_ten.rename(index={0: -1, 1:0, 2: 1, 3:2, 4: 3, 5:4, 6: 5, 7:6, 8: 7, 9:8, 10: 9, 11: 10,12: '10+'}, inplace= True)\n",
    "\n",
    "ax = difference_ten.plot(kind='bar')\n",
    "plt.xlim([-1,13])\n",
    "plt.ylabel('Number of customers')\n",
    "plt.xlabel('Prediction Range')\n",
    "plt.title('Prediction Range Distribution')\n",
    "ax.legend().set_visible(False)\n",
    "plt.show()"
   ]
  },
  {
   "cell_type": "code",
   "execution_count": 57,
   "metadata": {},
   "outputs": [
    {
     "data": {
      "image/png": "[encoded data removed]",
      "text/plain": [
       "<matplotlib.figure.Figure at 0x24a06c3ca90>"
      ]
     },
     "metadata": {
      "needs_background": "light"
     },
     "output_type": "display_data"
    }
   ],
   "source": [
    "# Get the difference for every customer\n",
    "Monetary_Value_Predict_Actual['Difference'] = round((Monetary_Value_Predict_Actual['Predict'] - Monetary_Value_Predict_Actual['Actual'])/Monetary_Value_Predict_Actual['Actual'],1)\n",
    "difference = pd.DataFrame(Monetary_Value_Predict_Actual[\"Difference\"].value_counts())\n",
    "difference = difference.sort_index(ascending=True)\n",
    "difference_range = difference[(difference['Difference']>=-1) & (difference['Difference']<=1)]\n",
    "\n",
    "ax = difference.plot(kind='line')\n",
    "plt.xlim([-1,1])\n",
    "plt.ylabel('Number of customers')\n",
    "plt.xlabel('Prediction Range')\n",
    "plt.title('Prediction Range Distribution from -1 to 1')\n",
    "ax.legend().set_visible(False)\n",
    "plt.show()"
   ]
  },
  {
   "cell_type": "markdown",
   "metadata": {},
   "source": [
    "### 4.3 Visullization for next 5 years"
   ]
  },
  {
   "cell_type": "code",
   "execution_count": 7,
   "metadata": {},
   "outputs": [],
   "source": [
    "# Reading the dataset\n",
    "training = pd.read_csv(\"training_day.csv\",index_col='customer_id')\n",
    "test = pd.read_csv(\"test_day.csv\",index_col='customer_id')\n",
    "\n",
    "\n",
    "# refit the BG model to the summary_with_money_value dataset\n",
    "from lifetimes import BetaGeoFitter\n",
    "bgf = BetaGeoFitter(penalizer_coef=0.05)\n",
    "training_model1 = training.loc[(training['frequency'] > 0) & (training['frequency'] < 250)]\n",
    "bgf.fit(training_model1['frequency'], training_model1['recency'], training_model1['T'])\n",
    "\n",
    "training_model2 = training.loc[(training['frequency'] > 0) & (training['frequency'] < 250)& (training['monetary_value'] <= 400)]\n",
    "from lifetimes import GammaGammaFitter\n",
    "ggf = GammaGammaFitter(penalizer_coef = 0.05)\n",
    "ggf.fit(training_model2['frequency'],\n",
    "        training_model2['monetary_value'])\n",
    "\n",
    "training = training[(training['frequency'] > 0) & (training['monetary_value'] > 0)]\n",
    "customer_lifetime_value_2019 = ggf.customer_lifetime_value(\n",
    "    bgf, #the model to use to predict the number of future transactions\n",
    "    training['frequency'],\n",
    "    training['recency'],\n",
    "    training['T'],\n",
    "    training['monetary_value'],\n",
    "    time=12, # months\n",
    "    discount_rate=0.005, # Yearly discount rate ~6.0%  p.a  = 0.5% per month  \n",
    "    freq = 'D'\n",
    ")"
   ]
  },
  {
   "cell_type": "code",
   "execution_count": 8,
   "metadata": {},
   "outputs": [],
   "source": [
    "# Reading the dataset\n",
    "training = pd.read_csv(\"training_day.csv\",index_col='customer_id')\n",
    "test = pd.read_csv(\"test_day.csv\",index_col='customer_id')\n",
    "\n",
    "\n",
    "# refit the BG model to the summary_with_money_value dataset\n",
    "from lifetimes import BetaGeoFitter\n",
    "bgf = BetaGeoFitter(penalizer_coef=0.05)\n",
    "training_model1 = training.loc[(training['frequency'] > 0) & (training['frequency'] < 250)]\n",
    "bgf.fit(training_model1['frequency'], training_model1['recency'], training_model1['T'])\n",
    "\n",
    "training_model2 = training.loc[(training['frequency'] > 0) & (training['frequency'] < 250)& (training['monetary_value'] <= 400)]\n",
    "from lifetimes import GammaGammaFitter\n",
    "ggf = GammaGammaFitter(penalizer_coef = 0.05)\n",
    "ggf.fit(training_model2['frequency'],\n",
    "        training_model2['monetary_value'])\n",
    "\n",
    "training = training[(training['frequency'] > 0) & (training['monetary_value'] > 0)]\n",
    "customer_lifetime_value_2024 = ggf.customer_lifetime_value(\n",
    "    bgf, #the model to use to predict the number of future transactions\n",
    "    training['frequency'],\n",
    "    training['recency'],\n",
    "    training['T'],\n",
    "    training['monetary_value'],\n",
    "    time=72, # months\n",
    "    discount_rate=0.005, # Yearly discount rate ~6.0%  p.a  = 0.5% per month  \n",
    "    freq = 'D'\n",
    ")"
   ]
  },
  {
   "cell_type": "code",
   "execution_count": 44,
   "metadata": {
    "scrolled": true
   },
   "outputs": [
    {
     "data": {
      "text/plain": [
       "customer_id\n",
       "2100000000    35358.055334\n",
       "2100000001    14072.758098\n",
       "2100000002      353.179552\n",
       "2100000003    35338.548225\n",
       "2100000004    15092.754860\n",
       "Name: clv, dtype: float64"
      ]
     },
     "execution_count": 44,
     "metadata": {},
     "output_type": "execute_result"
    }
   ],
   "source": [
    "# total clv 2024 minus total clv 2019\n",
    "customer_lifetime_value_5years = customer_lifetime_value_2024-customer_lifetime_value_2019\n",
    "customer_lifetime_value_5years.head()"
   ]
  },
  {
   "cell_type": "code",
   "execution_count": 83,
   "metadata": {
    "scrolled": false
   },
   "outputs": [
    {
     "data": {
      "text/plain": [
       "Text(0.5,1,'Customers total $dollar Spend for next 5 years distrbution (6% Discount Rate)')"
      ]
     },
     "execution_count": 83,
     "metadata": {},
     "output_type": "execute_result"
    },
    {
     "data": {
      "image/png": "[encoded data removed]",
      "text/plain": [
       "<matplotlib.figure.Figure at 0x1cc8fb7ae48>"
      ]
     },
     "metadata": {
      "needs_background": "light"
     },
     "output_type": "display_data"
    }
   ],
   "source": [
    "# Plotting the distribution\n",
    "import matplotlib.ticker as ticker\n",
    "import matplotlib.pyplot as plt\n",
    "plt.xlim([0,100000])\n",
    "plt.ylim([0,400000])\n",
    "\n",
    "ax = customer_lifetime_value_5years.plot(kind='hist', bins=1000)\n",
    "\n",
    "formatter = ticker.FormatStrFormatter('$%0.1f') #declaring the formatter with the $ sign and y_values with 1 decimalplace\n",
    "ax.xaxis.set_major_formatter(formatter)\n",
    "\n",
    "plt.ylabel('Number of Customers')\n",
    "plt.xlabel('Total $dollar Spend from 20191001 to 20240930')\n",
    "plt.title('Customers total $dollar Spend for next 5 years distrbution (6% Discount Rate)')"
   ]
  },
  {
   "cell_type": "code",
   "execution_count": 50,
   "metadata": {
    "scrolled": true
   },
   "outputs": [
    {
     "data": {
      "image/png": "[encoded data removed]",
      "text/plain": [
       "<matplotlib.figure.Figure at 0x1cca272b860>"
      ]
     },
     "metadata": {
      "needs_background": "light"
     },
     "output_type": "display_data"
    }
   ],
   "source": [
    "# Merge the probability of churn and CLV next 5 years\n",
    "clv_5years = pd.concat([customer_lifetime_value_5years,test_probability_alive['Churn']], axis = 1).dropna()\n",
    "\n",
    "x = clv_5years['Churn']\n",
    "y = clv_5years['clv']\n",
    "ax = plt.scatter(x, y, alpha=0.5)\n",
    "\n",
    "plt.ylim([0,750000])\n",
    "plt.ylabel('Total $Spend from 2020 to 2024')\n",
    "plt.xlabel('Probability of Churn')\n",
    "plt.title('Customer next  5 years lifetime value with probability of churn')\n",
    "#ax.legend().set_visible(False)\n",
    "plt.show()"
   ]
  },
  {
   "cell_type": "code",
   "execution_count": 112,
   "metadata": {},
   "outputs": [
    {
     "data": {
      "image/png": "[encoded data removed]",
      "text/plain": [
       "<matplotlib.figure.Figure at 0x1cca88c52b0>"
      ]
     },
     "metadata": {
      "needs_background": "light"
     },
     "output_type": "display_data"
    }
   ],
   "source": [
    "# For the Waving customers\n",
    "clv_5years_waving = clv_5years[(clv_5years['Churn'] >0.05) & (clv_5years['Churn'] <0.2)]\n",
    "\n",
    "colors = np.where(clv_5years_waving[\"clv\"]>=50000,'r','b')\n",
    "ax = clv_5years_waving.plot(kind='scatter', x='Churn', y='clv',c=colors)\n",
    "\n",
    "formatter = ticker.FormatStrFormatter('$%0.1f') #declaring the formatter with the $ sign and y_values with 1 decimalplace\n",
    "ax.yaxis.set_major_formatter(formatter)\n",
    "\n",
    "#plt.ylim([0,750000])\n",
    "plt.ylabel('Total $Spend from 2020 to 2024')\n",
    "plt.xlabel('Probability of Waving customer')\n",
    "plt.title('Waving customer next  5 years lifetime value with probability of churn')\n",
    "#ax.legend().set_visible(False)\n",
    "plt.show()"
   ]
  },
  {
   "cell_type": "code",
   "execution_count": 113,
   "metadata": {},
   "outputs": [
    {
     "data": {
      "text/plain": [
       "(254, 2)"
      ]
     },
     "execution_count": 113,
     "metadata": {},
     "output_type": "execute_result"
    }
   ],
   "source": [
    "clv_5years_waving[clv_5years_waving[\"clv\"]>=50000].shape"
   ]
  },
  {
   "cell_type": "code",
   "execution_count": 3,
   "metadata": {},
   "outputs": [
    {
     "data": {
      "image/png": "[encoded data removed]",
      "text/plain": [
       "<matplotlib.figure.Figure at 0x1cc81fc8c88>"
      ]
     },
     "metadata": {
      "needs_background": "light"
     },
     "output_type": "display_data"
    }
   ],
   "source": [
    "#No Discount \n",
    "a= {'Actual':[4341439234,4287138878, None, None, None, None,None],'Prediction':[None,4289766150,4247675722,4221221544,4201801372,4186447729,4173752048] }\n",
    "a_dataframe = pd.DataFrame(a)\n",
    "a_dataframe\n",
    "a_dataframe.rename(index={0: 2018, 1:2019, 2: 'Next1Year', 3:'Next2Year', 4: 'Next3Year', 5:'Next4Year', 6: 'Next5Year'}, inplace= True)\n",
    "\n",
    "%matplotlib inline\n",
    "import matplotlib.pyplot as plt\n",
    "\n",
    "ax = a_dataframe.plot(kind='line',marker='o')\n",
    "\n",
    "plt.ylabel('Totale sale (Unit: Billion)')\n",
    "plt.xlabel('Year')\n",
    "plt.title('Customer Lifetime Value for Next 5 Years')\n",
    "#ax.legend().set_visible(False)\n",
    "plt.show()"
   ]
  },
  {
   "cell_type": "code",
   "execution_count": 4,
   "metadata": {},
   "outputs": [
    {
     "data": {
      "image/png": "[encoded data removed]",
      "text/plain": [
       "<matplotlib.figure.Figure at 0x1cc82ae38d0>"
      ]
     },
     "metadata": {
      "needs_background": "light"
     },
     "output_type": "display_data"
    }
   ],
   "source": [
    "# With Discount = 0.005%\n",
    "a= {'Actual':[4341439234,4287138878, None, None, None, None,None],'Prediction':[None,4153813107,3873999987,3626176354,3399781349,3190559058,2996083484] }\n",
    "a_dataframe = pd.DataFrame(a)\n",
    "a_dataframe\n",
    "a_dataframe.rename(index={0: 2018, 1:2019, 2: 'Next1Year', 3:'Next2Year', 4: 'Next3Year', 5:'Next4Year', 6: 'Next5Year'}, inplace= True)\n",
    "\n",
    "%matplotlib inline\n",
    "import matplotlib.pyplot as plt\n",
    "\n",
    "ax = a_dataframe.plot(kind='line',marker='o')\n",
    "\n",
    "plt.ylabel('Totale sale (Unit: Billion)')\n",
    "plt.xlabel('Year')\n",
    "plt.title('Customer Lifetime Value for Next 5 Years with 6% Discount Rate')\n",
    "#ax.legend().set_visible(False)\n",
    "plt.show()"
   ]
  },
  {
   "cell_type": "code",
   "execution_count": null,
   "metadata": {},
   "outputs": [],
   "source": []
  },
  {
   "cell_type": "code",
   "execution_count": null,
   "metadata": {},
   "outputs": [],
   "source": []
  },
  {
   "cell_type": "code",
   "execution_count": null,
   "metadata": {},
   "outputs": [],
   "source": []
  },
  {
   "cell_type": "code",
   "execution_count": null,
   "metadata": {},
   "outputs": [],
   "source": []
  }
 ],
 "metadata": {
  "kernelspec": {
   "display_name": "Python 3",
   "language": "python",
   "name": "python3"
  },
  "language_info": {
   "codemirror_mode": {
    "name": "ipython",
    "version": 3
   },
   "file_extension": ".py",
   "mimetype": "text/x-python",
   "name": "python",
   "nbconvert_exporter": "python",
   "pygments_lexer": "ipython3",
   "version": "3.6.2"
  }
 },
 "nbformat": 4,
 "nbformat_minor": 2
}
